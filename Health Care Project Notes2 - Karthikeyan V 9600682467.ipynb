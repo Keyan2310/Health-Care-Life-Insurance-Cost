{
 "cells": [
  {
   "cell_type": "code",
   "execution_count": 1,
   "id": "1a6d4a94",
   "metadata": {},
   "outputs": [],
   "source": [
    "import numpy as np\n",
    "import matplotlib.pyplot as plt\n",
    "import pandas as pd\n",
    "import seaborn as sns # for making plots with seaborn\n",
    "color = sns.color_palette()\n",
    "import sklearn.metrics as metrics\n",
    "\n",
    "import warnings\n",
    "warnings.filterwarnings(\"ignore\")"
   ]
  },
  {
   "cell_type": "code",
   "execution_count": 2,
   "id": "a2542ae0",
   "metadata": {},
   "outputs": [],
   "source": [
    "HC_Data = pd.read_csv(\"HC Data.csv\")"
   ]
  },
  {
   "cell_type": "markdown",
   "id": "e6980776",
   "metadata": {},
   "source": [
    "## 2.\tData Report:\n",
    " \n",
    "### a) Understanding how data was collected in terms of time, frequency and methodology\t\n",
    "\n",
    "\n",
    "\n"
   ]
  },
  {
   "cell_type": "code",
   "execution_count": 3,
   "id": "5a73506a",
   "metadata": {},
   "outputs": [
    {
     "data": {
      "text/html": [
       "<div>\n",
       "<style scoped>\n",
       "    .dataframe tbody tr th:only-of-type {\n",
       "        vertical-align: middle;\n",
       "    }\n",
       "\n",
       "    .dataframe tbody tr th {\n",
       "        vertical-align: top;\n",
       "    }\n",
       "\n",
       "    .dataframe thead th {\n",
       "        text-align: right;\n",
       "    }\n",
       "</style>\n",
       "<table border=\"1\" class=\"dataframe\">\n",
       "  <thead>\n",
       "    <tr style=\"text-align: right;\">\n",
       "      <th></th>\n",
       "      <th>applicant_id</th>\n",
       "      <th>years_of_insurance_with_us</th>\n",
       "      <th>regular_checkup_lasy_year</th>\n",
       "      <th>adventure_sports</th>\n",
       "      <th>Occupation</th>\n",
       "      <th>visited_doctor_last_1_year</th>\n",
       "      <th>cholesterol_level</th>\n",
       "      <th>daily_avg_steps</th>\n",
       "      <th>age</th>\n",
       "      <th>heart_decs_history</th>\n",
       "      <th>...</th>\n",
       "      <th>smoking_status</th>\n",
       "      <th>Year_last_admitted</th>\n",
       "      <th>Location</th>\n",
       "      <th>weight</th>\n",
       "      <th>covered_by_any_other_company</th>\n",
       "      <th>Alcohol</th>\n",
       "      <th>exercise</th>\n",
       "      <th>weight_change_in_last_one_year</th>\n",
       "      <th>fat_percentage</th>\n",
       "      <th>insurance_cost</th>\n",
       "    </tr>\n",
       "  </thead>\n",
       "  <tbody>\n",
       "    <tr>\n",
       "      <th>0</th>\n",
       "      <td>5000</td>\n",
       "      <td>3</td>\n",
       "      <td>1</td>\n",
       "      <td>1</td>\n",
       "      <td>Salried</td>\n",
       "      <td>2</td>\n",
       "      <td>125 to 150</td>\n",
       "      <td>4866</td>\n",
       "      <td>28</td>\n",
       "      <td>1</td>\n",
       "      <td>...</td>\n",
       "      <td>Unknown</td>\n",
       "      <td>NaN</td>\n",
       "      <td>Chennai</td>\n",
       "      <td>67</td>\n",
       "      <td>N</td>\n",
       "      <td>Rare</td>\n",
       "      <td>Moderate</td>\n",
       "      <td>1</td>\n",
       "      <td>25</td>\n",
       "      <td>20978</td>\n",
       "    </tr>\n",
       "    <tr>\n",
       "      <th>1</th>\n",
       "      <td>5001</td>\n",
       "      <td>0</td>\n",
       "      <td>0</td>\n",
       "      <td>0</td>\n",
       "      <td>Student</td>\n",
       "      <td>4</td>\n",
       "      <td>150 to 175</td>\n",
       "      <td>6411</td>\n",
       "      <td>50</td>\n",
       "      <td>0</td>\n",
       "      <td>...</td>\n",
       "      <td>formerly smoked</td>\n",
       "      <td>NaN</td>\n",
       "      <td>Jaipur</td>\n",
       "      <td>58</td>\n",
       "      <td>N</td>\n",
       "      <td>Rare</td>\n",
       "      <td>Moderate</td>\n",
       "      <td>3</td>\n",
       "      <td>27</td>\n",
       "      <td>6170</td>\n",
       "    </tr>\n",
       "    <tr>\n",
       "      <th>2</th>\n",
       "      <td>5002</td>\n",
       "      <td>1</td>\n",
       "      <td>0</td>\n",
       "      <td>0</td>\n",
       "      <td>Business</td>\n",
       "      <td>4</td>\n",
       "      <td>200 to 225</td>\n",
       "      <td>4509</td>\n",
       "      <td>68</td>\n",
       "      <td>0</td>\n",
       "      <td>...</td>\n",
       "      <td>formerly smoked</td>\n",
       "      <td>NaN</td>\n",
       "      <td>Jaipur</td>\n",
       "      <td>73</td>\n",
       "      <td>N</td>\n",
       "      <td>Daily</td>\n",
       "      <td>Extreme</td>\n",
       "      <td>0</td>\n",
       "      <td>32</td>\n",
       "      <td>28382</td>\n",
       "    </tr>\n",
       "    <tr>\n",
       "      <th>3</th>\n",
       "      <td>5003</td>\n",
       "      <td>7</td>\n",
       "      <td>4</td>\n",
       "      <td>0</td>\n",
       "      <td>Business</td>\n",
       "      <td>2</td>\n",
       "      <td>175 to 200</td>\n",
       "      <td>6214</td>\n",
       "      <td>51</td>\n",
       "      <td>0</td>\n",
       "      <td>...</td>\n",
       "      <td>Unknown</td>\n",
       "      <td>NaN</td>\n",
       "      <td>Chennai</td>\n",
       "      <td>71</td>\n",
       "      <td>Y</td>\n",
       "      <td>Rare</td>\n",
       "      <td>No</td>\n",
       "      <td>3</td>\n",
       "      <td>37</td>\n",
       "      <td>27148</td>\n",
       "    </tr>\n",
       "    <tr>\n",
       "      <th>4</th>\n",
       "      <td>5004</td>\n",
       "      <td>3</td>\n",
       "      <td>1</td>\n",
       "      <td>0</td>\n",
       "      <td>Student</td>\n",
       "      <td>2</td>\n",
       "      <td>150 to 175</td>\n",
       "      <td>4938</td>\n",
       "      <td>44</td>\n",
       "      <td>0</td>\n",
       "      <td>...</td>\n",
       "      <td>never smoked</td>\n",
       "      <td>2004.0</td>\n",
       "      <td>Bangalore</td>\n",
       "      <td>74</td>\n",
       "      <td>N</td>\n",
       "      <td>No</td>\n",
       "      <td>Extreme</td>\n",
       "      <td>0</td>\n",
       "      <td>34</td>\n",
       "      <td>29616</td>\n",
       "    </tr>\n",
       "    <tr>\n",
       "      <th>...</th>\n",
       "      <td>...</td>\n",
       "      <td>...</td>\n",
       "      <td>...</td>\n",
       "      <td>...</td>\n",
       "      <td>...</td>\n",
       "      <td>...</td>\n",
       "      <td>...</td>\n",
       "      <td>...</td>\n",
       "      <td>...</td>\n",
       "      <td>...</td>\n",
       "      <td>...</td>\n",
       "      <td>...</td>\n",
       "      <td>...</td>\n",
       "      <td>...</td>\n",
       "      <td>...</td>\n",
       "      <td>...</td>\n",
       "      <td>...</td>\n",
       "      <td>...</td>\n",
       "      <td>...</td>\n",
       "      <td>...</td>\n",
       "      <td>...</td>\n",
       "    </tr>\n",
       "    <tr>\n",
       "      <th>24995</th>\n",
       "      <td>29995</td>\n",
       "      <td>3</td>\n",
       "      <td>0</td>\n",
       "      <td>0</td>\n",
       "      <td>Salried</td>\n",
       "      <td>4</td>\n",
       "      <td>225 to 250</td>\n",
       "      <td>5614</td>\n",
       "      <td>22</td>\n",
       "      <td>0</td>\n",
       "      <td>...</td>\n",
       "      <td>smokes</td>\n",
       "      <td>2000.0</td>\n",
       "      <td>Kanpur</td>\n",
       "      <td>79</td>\n",
       "      <td>Y</td>\n",
       "      <td>Rare</td>\n",
       "      <td>Moderate</td>\n",
       "      <td>4</td>\n",
       "      <td>40</td>\n",
       "      <td>39488</td>\n",
       "    </tr>\n",
       "    <tr>\n",
       "      <th>24996</th>\n",
       "      <td>29996</td>\n",
       "      <td>6</td>\n",
       "      <td>0</td>\n",
       "      <td>0</td>\n",
       "      <td>Business</td>\n",
       "      <td>4</td>\n",
       "      <td>200 to 225</td>\n",
       "      <td>4719</td>\n",
       "      <td>58</td>\n",
       "      <td>0</td>\n",
       "      <td>...</td>\n",
       "      <td>never smoked</td>\n",
       "      <td>2009.0</td>\n",
       "      <td>Kanpur</td>\n",
       "      <td>66</td>\n",
       "      <td>N</td>\n",
       "      <td>Rare</td>\n",
       "      <td>Moderate</td>\n",
       "      <td>2</td>\n",
       "      <td>28</td>\n",
       "      <td>14808</td>\n",
       "    </tr>\n",
       "    <tr>\n",
       "      <th>24997</th>\n",
       "      <td>29997</td>\n",
       "      <td>7</td>\n",
       "      <td>0</td>\n",
       "      <td>1</td>\n",
       "      <td>Student</td>\n",
       "      <td>2</td>\n",
       "      <td>150 to 175</td>\n",
       "      <td>5624</td>\n",
       "      <td>34</td>\n",
       "      <td>0</td>\n",
       "      <td>...</td>\n",
       "      <td>Unknown</td>\n",
       "      <td>NaN</td>\n",
       "      <td>Bhubaneswar</td>\n",
       "      <td>76</td>\n",
       "      <td>N</td>\n",
       "      <td>Rare</td>\n",
       "      <td>Moderate</td>\n",
       "      <td>1</td>\n",
       "      <td>35</td>\n",
       "      <td>33318</td>\n",
       "    </tr>\n",
       "    <tr>\n",
       "      <th>24998</th>\n",
       "      <td>29998</td>\n",
       "      <td>1</td>\n",
       "      <td>0</td>\n",
       "      <td>0</td>\n",
       "      <td>Salried</td>\n",
       "      <td>2</td>\n",
       "      <td>225 to 250</td>\n",
       "      <td>10777</td>\n",
       "      <td>27</td>\n",
       "      <td>0</td>\n",
       "      <td>...</td>\n",
       "      <td>Unknown</td>\n",
       "      <td>NaN</td>\n",
       "      <td>Surat</td>\n",
       "      <td>74</td>\n",
       "      <td>N</td>\n",
       "      <td>Rare</td>\n",
       "      <td>Moderate</td>\n",
       "      <td>0</td>\n",
       "      <td>40</td>\n",
       "      <td>30850</td>\n",
       "    </tr>\n",
       "    <tr>\n",
       "      <th>24999</th>\n",
       "      <td>29999</td>\n",
       "      <td>8</td>\n",
       "      <td>2</td>\n",
       "      <td>0</td>\n",
       "      <td>Business</td>\n",
       "      <td>4</td>\n",
       "      <td>150 to 175</td>\n",
       "      <td>5882</td>\n",
       "      <td>22</td>\n",
       "      <td>1</td>\n",
       "      <td>...</td>\n",
       "      <td>formerly smoked</td>\n",
       "      <td>2014.0</td>\n",
       "      <td>Chennai</td>\n",
       "      <td>57</td>\n",
       "      <td>N</td>\n",
       "      <td>No</td>\n",
       "      <td>No</td>\n",
       "      <td>4</td>\n",
       "      <td>21</td>\n",
       "      <td>6170</td>\n",
       "    </tr>\n",
       "  </tbody>\n",
       "</table>\n",
       "<p>25000 rows × 24 columns</p>\n",
       "</div>"
      ],
      "text/plain": [
       "       applicant_id  years_of_insurance_with_us  regular_checkup_lasy_year  \\\n",
       "0              5000                           3                          1   \n",
       "1              5001                           0                          0   \n",
       "2              5002                           1                          0   \n",
       "3              5003                           7                          4   \n",
       "4              5004                           3                          1   \n",
       "...             ...                         ...                        ...   \n",
       "24995         29995                           3                          0   \n",
       "24996         29996                           6                          0   \n",
       "24997         29997                           7                          0   \n",
       "24998         29998                           1                          0   \n",
       "24999         29999                           8                          2   \n",
       "\n",
       "       adventure_sports Occupation  visited_doctor_last_1_year  \\\n",
       "0                     1    Salried                           2   \n",
       "1                     0    Student                           4   \n",
       "2                     0   Business                           4   \n",
       "3                     0   Business                           2   \n",
       "4                     0    Student                           2   \n",
       "...                 ...        ...                         ...   \n",
       "24995                 0    Salried                           4   \n",
       "24996                 0   Business                           4   \n",
       "24997                 1    Student                           2   \n",
       "24998                 0    Salried                           2   \n",
       "24999                 0   Business                           4   \n",
       "\n",
       "      cholesterol_level  daily_avg_steps  age  heart_decs_history  ...  \\\n",
       "0            125 to 150             4866   28                   1  ...   \n",
       "1            150 to 175             6411   50                   0  ...   \n",
       "2            200 to 225             4509   68                   0  ...   \n",
       "3            175 to 200             6214   51                   0  ...   \n",
       "4            150 to 175             4938   44                   0  ...   \n",
       "...                 ...              ...  ...                 ...  ...   \n",
       "24995        225 to 250             5614   22                   0  ...   \n",
       "24996        200 to 225             4719   58                   0  ...   \n",
       "24997        150 to 175             5624   34                   0  ...   \n",
       "24998        225 to 250            10777   27                   0  ...   \n",
       "24999        150 to 175             5882   22                   1  ...   \n",
       "\n",
       "        smoking_status Year_last_admitted     Location  weight  \\\n",
       "0              Unknown                NaN      Chennai      67   \n",
       "1      formerly smoked                NaN       Jaipur      58   \n",
       "2      formerly smoked                NaN       Jaipur      73   \n",
       "3              Unknown                NaN      Chennai      71   \n",
       "4         never smoked             2004.0    Bangalore      74   \n",
       "...                ...                ...          ...     ...   \n",
       "24995           smokes             2000.0       Kanpur      79   \n",
       "24996     never smoked             2009.0       Kanpur      66   \n",
       "24997          Unknown                NaN  Bhubaneswar      76   \n",
       "24998          Unknown                NaN        Surat      74   \n",
       "24999  formerly smoked             2014.0      Chennai      57   \n",
       "\n",
       "      covered_by_any_other_company  Alcohol  exercise  \\\n",
       "0                                N     Rare  Moderate   \n",
       "1                                N     Rare  Moderate   \n",
       "2                                N    Daily   Extreme   \n",
       "3                                Y     Rare        No   \n",
       "4                                N       No   Extreme   \n",
       "...                            ...      ...       ...   \n",
       "24995                            Y     Rare  Moderate   \n",
       "24996                            N     Rare  Moderate   \n",
       "24997                            N     Rare  Moderate   \n",
       "24998                            N     Rare  Moderate   \n",
       "24999                            N       No        No   \n",
       "\n",
       "       weight_change_in_last_one_year fat_percentage insurance_cost  \n",
       "0                                   1             25          20978  \n",
       "1                                   3             27           6170  \n",
       "2                                   0             32          28382  \n",
       "3                                   3             37          27148  \n",
       "4                                   0             34          29616  \n",
       "...                               ...            ...            ...  \n",
       "24995                               4             40          39488  \n",
       "24996                               2             28          14808  \n",
       "24997                               1             35          33318  \n",
       "24998                               0             40          30850  \n",
       "24999                               4             21           6170  \n",
       "\n",
       "[25000 rows x 24 columns]"
      ]
     },
     "execution_count": 3,
     "metadata": {},
     "output_type": "execute_result"
    }
   ],
   "source": [
    "HC_Data"
   ]
  },
  {
   "cell_type": "markdown",
   "id": "f913f31f",
   "metadata": {},
   "source": [
    "### b) Visual inspection of data (rows, columns, descriptive details)\t \n"
   ]
  },
  {
   "cell_type": "code",
   "execution_count": 4,
   "id": "2e80eb55",
   "metadata": {},
   "outputs": [
    {
     "name": "stdout",
     "output_type": "stream",
     "text": [
      "The number of rows (observations) is 25000 \n",
      "The number of columns (variables) is 24\n"
     ]
    }
   ],
   "source": [
    "print('The number of rows (observations) is',HC_Data.shape[0],'\\n''The number of columns (variables) is',HC_Data.shape[1])"
   ]
  },
  {
   "cell_type": "code",
   "execution_count": 5,
   "id": "98beccbb",
   "metadata": {},
   "outputs": [
    {
     "name": "stdout",
     "output_type": "stream",
     "text": [
      "<class 'pandas.core.frame.DataFrame'>\n",
      "RangeIndex: 25000 entries, 0 to 24999\n",
      "Data columns (total 24 columns):\n",
      " #   Column                          Non-Null Count  Dtype  \n",
      "---  ------                          --------------  -----  \n",
      " 0   applicant_id                    25000 non-null  int64  \n",
      " 1   years_of_insurance_with_us      25000 non-null  int64  \n",
      " 2   regular_checkup_lasy_year       25000 non-null  int64  \n",
      " 3   adventure_sports                25000 non-null  int64  \n",
      " 4   Occupation                      25000 non-null  object \n",
      " 5   visited_doctor_last_1_year      25000 non-null  int64  \n",
      " 6   cholesterol_level               25000 non-null  object \n",
      " 7   daily_avg_steps                 25000 non-null  int64  \n",
      " 8   age                             25000 non-null  int64  \n",
      " 9   heart_decs_history              25000 non-null  int64  \n",
      " 10  other_major_decs_history        25000 non-null  int64  \n",
      " 11  Gender                          25000 non-null  object \n",
      " 12  avg_glucose_level               25000 non-null  int64  \n",
      " 13  bmi                             24010 non-null  float64\n",
      " 14  smoking_status                  25000 non-null  object \n",
      " 15  Year_last_admitted              13119 non-null  float64\n",
      " 16  Location                        25000 non-null  object \n",
      " 17  weight                          25000 non-null  int64  \n",
      " 18  covered_by_any_other_company    25000 non-null  object \n",
      " 19  Alcohol                         25000 non-null  object \n",
      " 20  exercise                        25000 non-null  object \n",
      " 21  weight_change_in_last_one_year  25000 non-null  int64  \n",
      " 22  fat_percentage                  25000 non-null  int64  \n",
      " 23  insurance_cost                  25000 non-null  int64  \n",
      "dtypes: float64(2), int64(14), object(8)\n",
      "memory usage: 4.6+ MB\n"
     ]
    }
   ],
   "source": [
    "HC_Data.info()"
   ]
  },
  {
   "cell_type": "code",
   "execution_count": 6,
   "id": "0d0f13b0",
   "metadata": {},
   "outputs": [
    {
     "data": {
      "text/html": [
       "<div>\n",
       "<style scoped>\n",
       "    .dataframe tbody tr th:only-of-type {\n",
       "        vertical-align: middle;\n",
       "    }\n",
       "\n",
       "    .dataframe tbody tr th {\n",
       "        vertical-align: top;\n",
       "    }\n",
       "\n",
       "    .dataframe thead th {\n",
       "        text-align: right;\n",
       "    }\n",
       "</style>\n",
       "<table border=\"1\" class=\"dataframe\">\n",
       "  <thead>\n",
       "    <tr style=\"text-align: right;\">\n",
       "      <th></th>\n",
       "      <th>applicant_id</th>\n",
       "      <th>years_of_insurance_with_us</th>\n",
       "      <th>regular_checkup_lasy_year</th>\n",
       "      <th>adventure_sports</th>\n",
       "      <th>visited_doctor_last_1_year</th>\n",
       "      <th>daily_avg_steps</th>\n",
       "      <th>age</th>\n",
       "      <th>heart_decs_history</th>\n",
       "      <th>other_major_decs_history</th>\n",
       "      <th>avg_glucose_level</th>\n",
       "      <th>bmi</th>\n",
       "      <th>Year_last_admitted</th>\n",
       "      <th>weight</th>\n",
       "      <th>weight_change_in_last_one_year</th>\n",
       "      <th>fat_percentage</th>\n",
       "      <th>insurance_cost</th>\n",
       "    </tr>\n",
       "  </thead>\n",
       "  <tbody>\n",
       "    <tr>\n",
       "      <th>count</th>\n",
       "      <td>25000.000000</td>\n",
       "      <td>25000.000000</td>\n",
       "      <td>25000.000000</td>\n",
       "      <td>25000.000000</td>\n",
       "      <td>25000.000000</td>\n",
       "      <td>25000.000000</td>\n",
       "      <td>25000.000000</td>\n",
       "      <td>25000.000000</td>\n",
       "      <td>25000.000000</td>\n",
       "      <td>25000.000000</td>\n",
       "      <td>24010.000000</td>\n",
       "      <td>13119.000000</td>\n",
       "      <td>25000.000000</td>\n",
       "      <td>25000.000000</td>\n",
       "      <td>25000.000000</td>\n",
       "      <td>25000.000000</td>\n",
       "    </tr>\n",
       "    <tr>\n",
       "      <th>mean</th>\n",
       "      <td>17499.500000</td>\n",
       "      <td>4.089040</td>\n",
       "      <td>0.773680</td>\n",
       "      <td>0.081720</td>\n",
       "      <td>3.104200</td>\n",
       "      <td>5215.889320</td>\n",
       "      <td>44.918320</td>\n",
       "      <td>0.054640</td>\n",
       "      <td>0.098160</td>\n",
       "      <td>167.530000</td>\n",
       "      <td>31.393328</td>\n",
       "      <td>2003.892217</td>\n",
       "      <td>71.610480</td>\n",
       "      <td>2.517960</td>\n",
       "      <td>28.812280</td>\n",
       "      <td>27147.407680</td>\n",
       "    </tr>\n",
       "    <tr>\n",
       "      <th>std</th>\n",
       "      <td>7217.022701</td>\n",
       "      <td>2.606612</td>\n",
       "      <td>1.199449</td>\n",
       "      <td>0.273943</td>\n",
       "      <td>1.141663</td>\n",
       "      <td>1053.179748</td>\n",
       "      <td>16.107492</td>\n",
       "      <td>0.227281</td>\n",
       "      <td>0.297537</td>\n",
       "      <td>62.729712</td>\n",
       "      <td>7.876535</td>\n",
       "      <td>7.581521</td>\n",
       "      <td>9.325183</td>\n",
       "      <td>1.690335</td>\n",
       "      <td>8.632382</td>\n",
       "      <td>14323.691832</td>\n",
       "    </tr>\n",
       "    <tr>\n",
       "      <th>min</th>\n",
       "      <td>5000.000000</td>\n",
       "      <td>0.000000</td>\n",
       "      <td>0.000000</td>\n",
       "      <td>0.000000</td>\n",
       "      <td>0.000000</td>\n",
       "      <td>2034.000000</td>\n",
       "      <td>16.000000</td>\n",
       "      <td>0.000000</td>\n",
       "      <td>0.000000</td>\n",
       "      <td>57.000000</td>\n",
       "      <td>12.300000</td>\n",
       "      <td>1990.000000</td>\n",
       "      <td>52.000000</td>\n",
       "      <td>0.000000</td>\n",
       "      <td>11.000000</td>\n",
       "      <td>2468.000000</td>\n",
       "    </tr>\n",
       "    <tr>\n",
       "      <th>25%</th>\n",
       "      <td>11249.750000</td>\n",
       "      <td>2.000000</td>\n",
       "      <td>0.000000</td>\n",
       "      <td>0.000000</td>\n",
       "      <td>2.000000</td>\n",
       "      <td>4543.000000</td>\n",
       "      <td>31.000000</td>\n",
       "      <td>0.000000</td>\n",
       "      <td>0.000000</td>\n",
       "      <td>113.000000</td>\n",
       "      <td>26.100000</td>\n",
       "      <td>1997.000000</td>\n",
       "      <td>64.000000</td>\n",
       "      <td>1.000000</td>\n",
       "      <td>21.000000</td>\n",
       "      <td>16042.000000</td>\n",
       "    </tr>\n",
       "    <tr>\n",
       "      <th>50%</th>\n",
       "      <td>17499.500000</td>\n",
       "      <td>4.000000</td>\n",
       "      <td>0.000000</td>\n",
       "      <td>0.000000</td>\n",
       "      <td>3.000000</td>\n",
       "      <td>5089.000000</td>\n",
       "      <td>45.000000</td>\n",
       "      <td>0.000000</td>\n",
       "      <td>0.000000</td>\n",
       "      <td>168.000000</td>\n",
       "      <td>30.500000</td>\n",
       "      <td>2004.000000</td>\n",
       "      <td>72.000000</td>\n",
       "      <td>3.000000</td>\n",
       "      <td>31.000000</td>\n",
       "      <td>27148.000000</td>\n",
       "    </tr>\n",
       "    <tr>\n",
       "      <th>75%</th>\n",
       "      <td>23749.250000</td>\n",
       "      <td>6.000000</td>\n",
       "      <td>1.000000</td>\n",
       "      <td>0.000000</td>\n",
       "      <td>4.000000</td>\n",
       "      <td>5730.000000</td>\n",
       "      <td>59.000000</td>\n",
       "      <td>0.000000</td>\n",
       "      <td>0.000000</td>\n",
       "      <td>222.000000</td>\n",
       "      <td>35.600000</td>\n",
       "      <td>2010.000000</td>\n",
       "      <td>78.000000</td>\n",
       "      <td>4.000000</td>\n",
       "      <td>36.000000</td>\n",
       "      <td>37020.000000</td>\n",
       "    </tr>\n",
       "    <tr>\n",
       "      <th>max</th>\n",
       "      <td>29999.000000</td>\n",
       "      <td>8.000000</td>\n",
       "      <td>5.000000</td>\n",
       "      <td>1.000000</td>\n",
       "      <td>12.000000</td>\n",
       "      <td>11255.000000</td>\n",
       "      <td>74.000000</td>\n",
       "      <td>1.000000</td>\n",
       "      <td>1.000000</td>\n",
       "      <td>277.000000</td>\n",
       "      <td>100.600000</td>\n",
       "      <td>2018.000000</td>\n",
       "      <td>96.000000</td>\n",
       "      <td>6.000000</td>\n",
       "      <td>42.000000</td>\n",
       "      <td>67870.000000</td>\n",
       "    </tr>\n",
       "  </tbody>\n",
       "</table>\n",
       "</div>"
      ],
      "text/plain": [
       "       applicant_id  years_of_insurance_with_us  regular_checkup_lasy_year  \\\n",
       "count  25000.000000                25000.000000               25000.000000   \n",
       "mean   17499.500000                    4.089040                   0.773680   \n",
       "std     7217.022701                    2.606612                   1.199449   \n",
       "min     5000.000000                    0.000000                   0.000000   \n",
       "25%    11249.750000                    2.000000                   0.000000   \n",
       "50%    17499.500000                    4.000000                   0.000000   \n",
       "75%    23749.250000                    6.000000                   1.000000   \n",
       "max    29999.000000                    8.000000                   5.000000   \n",
       "\n",
       "       adventure_sports  visited_doctor_last_1_year  daily_avg_steps  \\\n",
       "count      25000.000000                25000.000000     25000.000000   \n",
       "mean           0.081720                    3.104200      5215.889320   \n",
       "std            0.273943                    1.141663      1053.179748   \n",
       "min            0.000000                    0.000000      2034.000000   \n",
       "25%            0.000000                    2.000000      4543.000000   \n",
       "50%            0.000000                    3.000000      5089.000000   \n",
       "75%            0.000000                    4.000000      5730.000000   \n",
       "max            1.000000                   12.000000     11255.000000   \n",
       "\n",
       "                age  heart_decs_history  other_major_decs_history  \\\n",
       "count  25000.000000        25000.000000              25000.000000   \n",
       "mean      44.918320            0.054640                  0.098160   \n",
       "std       16.107492            0.227281                  0.297537   \n",
       "min       16.000000            0.000000                  0.000000   \n",
       "25%       31.000000            0.000000                  0.000000   \n",
       "50%       45.000000            0.000000                  0.000000   \n",
       "75%       59.000000            0.000000                  0.000000   \n",
       "max       74.000000            1.000000                  1.000000   \n",
       "\n",
       "       avg_glucose_level           bmi  Year_last_admitted        weight  \\\n",
       "count       25000.000000  24010.000000        13119.000000  25000.000000   \n",
       "mean          167.530000     31.393328         2003.892217     71.610480   \n",
       "std            62.729712      7.876535            7.581521      9.325183   \n",
       "min            57.000000     12.300000         1990.000000     52.000000   \n",
       "25%           113.000000     26.100000         1997.000000     64.000000   \n",
       "50%           168.000000     30.500000         2004.000000     72.000000   \n",
       "75%           222.000000     35.600000         2010.000000     78.000000   \n",
       "max           277.000000    100.600000         2018.000000     96.000000   \n",
       "\n",
       "       weight_change_in_last_one_year  fat_percentage  insurance_cost  \n",
       "count                    25000.000000    25000.000000    25000.000000  \n",
       "mean                         2.517960       28.812280    27147.407680  \n",
       "std                          1.690335        8.632382    14323.691832  \n",
       "min                          0.000000       11.000000     2468.000000  \n",
       "25%                          1.000000       21.000000    16042.000000  \n",
       "50%                          3.000000       31.000000    27148.000000  \n",
       "75%                          4.000000       36.000000    37020.000000  \n",
       "max                          6.000000       42.000000    67870.000000  "
      ]
     },
     "execution_count": 6,
     "metadata": {},
     "output_type": "execute_result"
    }
   ],
   "source": [
    "HC_Data.describe()"
   ]
  },
  {
   "cell_type": "markdown",
   "id": "db42a275",
   "metadata": {},
   "source": [
    "### c) Understanding of attributes (variable info, renaming if required)\n"
   ]
  },
  {
   "cell_type": "code",
   "execution_count": 7,
   "id": "4d929407",
   "metadata": {},
   "outputs": [
    {
     "data": {
      "text/plain": [
       "applicant_id                          0\n",
       "years_of_insurance_with_us            0\n",
       "regular_checkup_lasy_year             0\n",
       "adventure_sports                      0\n",
       "Occupation                            0\n",
       "visited_doctor_last_1_year            0\n",
       "cholesterol_level                     0\n",
       "daily_avg_steps                       0\n",
       "age                                   0\n",
       "heart_decs_history                    0\n",
       "other_major_decs_history              0\n",
       "Gender                                0\n",
       "avg_glucose_level                     0\n",
       "bmi                                 990\n",
       "smoking_status                        0\n",
       "Year_last_admitted                11881\n",
       "Location                              0\n",
       "weight                                0\n",
       "covered_by_any_other_company          0\n",
       "Alcohol                               0\n",
       "exercise                              0\n",
       "weight_change_in_last_one_year        0\n",
       "fat_percentage                        0\n",
       "insurance_cost                        0\n",
       "dtype: int64"
      ]
     },
     "execution_count": 7,
     "metadata": {},
     "output_type": "execute_result"
    }
   ],
   "source": [
    "HC_Data.isnull().sum()"
   ]
  },
  {
   "cell_type": "code",
   "execution_count": 8,
   "id": "a778b60a",
   "metadata": {},
   "outputs": [
    {
     "name": "stdout",
     "output_type": "stream",
     "text": [
      "Missing percentage: 47.524 %\n"
     ]
    }
   ],
   "source": [
    "total_rows = len(HC_Data)\n",
    "\n",
    "# Calculate the number of missing values in the 'Year_last_admitted' column\n",
    "missing_values = HC_Data['Year_last_admitted'].isnull().sum()\n",
    "\n",
    "# Calculate the percentage of missing values\n",
    "missing_percentage = (missing_values / total_rows) * 100\n",
    "\n",
    "print(\"Missing percentage:\", missing_percentage, \"%\")"
   ]
  },
  {
   "cell_type": "code",
   "execution_count": 9,
   "id": "39a26ec8",
   "metadata": {},
   "outputs": [
    {
     "name": "stdout",
     "output_type": "stream",
     "text": [
      "Missing percentage: 3.9600000000000004 %\n"
     ]
    }
   ],
   "source": [
    "total_rows = len(HC_Data)\n",
    "\n",
    "# Calculate the number of missing values in the 'Year_last_admitted' column\n",
    "missing_values = HC_Data['bmi'].isnull().sum()\n",
    "\n",
    "# Calculate the percentage of missing values\n",
    "missing_percentage = (missing_values / total_rows) * 100\n",
    "\n",
    "print(\"Missing percentage:\", missing_percentage, \"%\")"
   ]
  },
  {
   "cell_type": "markdown",
   "id": "48331d36",
   "metadata": {},
   "source": [
    "### a) Removal of unwanted variables (if applicable)\t "
   ]
  },
  {
   "cell_type": "code",
   "execution_count": 10,
   "id": "b6e741e6",
   "metadata": {},
   "outputs": [],
   "source": [
    "unwanted_variables = ['Year_last_admitted']\n",
    "\n",
    "# Drop the unwanted variables from the DataFrame\n",
    "HC_Data = HC_Data.drop(columns=unwanted_variables)"
   ]
  },
  {
   "cell_type": "code",
   "execution_count": 11,
   "id": "077a5c84",
   "metadata": {},
   "outputs": [
    {
     "data": {
      "text/html": [
       "<div>\n",
       "<style scoped>\n",
       "    .dataframe tbody tr th:only-of-type {\n",
       "        vertical-align: middle;\n",
       "    }\n",
       "\n",
       "    .dataframe tbody tr th {\n",
       "        vertical-align: top;\n",
       "    }\n",
       "\n",
       "    .dataframe thead th {\n",
       "        text-align: right;\n",
       "    }\n",
       "</style>\n",
       "<table border=\"1\" class=\"dataframe\">\n",
       "  <thead>\n",
       "    <tr style=\"text-align: right;\">\n",
       "      <th></th>\n",
       "      <th>applicant_id</th>\n",
       "      <th>years_of_insurance_with_us</th>\n",
       "      <th>regular_checkup_lasy_year</th>\n",
       "      <th>adventure_sports</th>\n",
       "      <th>Occupation</th>\n",
       "      <th>visited_doctor_last_1_year</th>\n",
       "      <th>cholesterol_level</th>\n",
       "      <th>daily_avg_steps</th>\n",
       "      <th>age</th>\n",
       "      <th>heart_decs_history</th>\n",
       "      <th>...</th>\n",
       "      <th>bmi</th>\n",
       "      <th>smoking_status</th>\n",
       "      <th>Location</th>\n",
       "      <th>weight</th>\n",
       "      <th>covered_by_any_other_company</th>\n",
       "      <th>Alcohol</th>\n",
       "      <th>exercise</th>\n",
       "      <th>weight_change_in_last_one_year</th>\n",
       "      <th>fat_percentage</th>\n",
       "      <th>insurance_cost</th>\n",
       "    </tr>\n",
       "  </thead>\n",
       "  <tbody>\n",
       "    <tr>\n",
       "      <th>0</th>\n",
       "      <td>5000</td>\n",
       "      <td>3</td>\n",
       "      <td>1</td>\n",
       "      <td>1</td>\n",
       "      <td>Salried</td>\n",
       "      <td>2</td>\n",
       "      <td>125 to 150</td>\n",
       "      <td>4866</td>\n",
       "      <td>28</td>\n",
       "      <td>1</td>\n",
       "      <td>...</td>\n",
       "      <td>31.2</td>\n",
       "      <td>Unknown</td>\n",
       "      <td>Chennai</td>\n",
       "      <td>67</td>\n",
       "      <td>N</td>\n",
       "      <td>Rare</td>\n",
       "      <td>Moderate</td>\n",
       "      <td>1</td>\n",
       "      <td>25</td>\n",
       "      <td>20978</td>\n",
       "    </tr>\n",
       "    <tr>\n",
       "      <th>1</th>\n",
       "      <td>5001</td>\n",
       "      <td>0</td>\n",
       "      <td>0</td>\n",
       "      <td>0</td>\n",
       "      <td>Student</td>\n",
       "      <td>4</td>\n",
       "      <td>150 to 175</td>\n",
       "      <td>6411</td>\n",
       "      <td>50</td>\n",
       "      <td>0</td>\n",
       "      <td>...</td>\n",
       "      <td>34.2</td>\n",
       "      <td>formerly smoked</td>\n",
       "      <td>Jaipur</td>\n",
       "      <td>58</td>\n",
       "      <td>N</td>\n",
       "      <td>Rare</td>\n",
       "      <td>Moderate</td>\n",
       "      <td>3</td>\n",
       "      <td>27</td>\n",
       "      <td>6170</td>\n",
       "    </tr>\n",
       "    <tr>\n",
       "      <th>2</th>\n",
       "      <td>5002</td>\n",
       "      <td>1</td>\n",
       "      <td>0</td>\n",
       "      <td>0</td>\n",
       "      <td>Business</td>\n",
       "      <td>4</td>\n",
       "      <td>200 to 225</td>\n",
       "      <td>4509</td>\n",
       "      <td>68</td>\n",
       "      <td>0</td>\n",
       "      <td>...</td>\n",
       "      <td>40.4</td>\n",
       "      <td>formerly smoked</td>\n",
       "      <td>Jaipur</td>\n",
       "      <td>73</td>\n",
       "      <td>N</td>\n",
       "      <td>Daily</td>\n",
       "      <td>Extreme</td>\n",
       "      <td>0</td>\n",
       "      <td>32</td>\n",
       "      <td>28382</td>\n",
       "    </tr>\n",
       "    <tr>\n",
       "      <th>3</th>\n",
       "      <td>5003</td>\n",
       "      <td>7</td>\n",
       "      <td>4</td>\n",
       "      <td>0</td>\n",
       "      <td>Business</td>\n",
       "      <td>2</td>\n",
       "      <td>175 to 200</td>\n",
       "      <td>6214</td>\n",
       "      <td>51</td>\n",
       "      <td>0</td>\n",
       "      <td>...</td>\n",
       "      <td>22.9</td>\n",
       "      <td>Unknown</td>\n",
       "      <td>Chennai</td>\n",
       "      <td>71</td>\n",
       "      <td>Y</td>\n",
       "      <td>Rare</td>\n",
       "      <td>No</td>\n",
       "      <td>3</td>\n",
       "      <td>37</td>\n",
       "      <td>27148</td>\n",
       "    </tr>\n",
       "    <tr>\n",
       "      <th>4</th>\n",
       "      <td>5004</td>\n",
       "      <td>3</td>\n",
       "      <td>1</td>\n",
       "      <td>0</td>\n",
       "      <td>Student</td>\n",
       "      <td>2</td>\n",
       "      <td>150 to 175</td>\n",
       "      <td>4938</td>\n",
       "      <td>44</td>\n",
       "      <td>0</td>\n",
       "      <td>...</td>\n",
       "      <td>26.5</td>\n",
       "      <td>never smoked</td>\n",
       "      <td>Bangalore</td>\n",
       "      <td>74</td>\n",
       "      <td>N</td>\n",
       "      <td>No</td>\n",
       "      <td>Extreme</td>\n",
       "      <td>0</td>\n",
       "      <td>34</td>\n",
       "      <td>29616</td>\n",
       "    </tr>\n",
       "    <tr>\n",
       "      <th>...</th>\n",
       "      <td>...</td>\n",
       "      <td>...</td>\n",
       "      <td>...</td>\n",
       "      <td>...</td>\n",
       "      <td>...</td>\n",
       "      <td>...</td>\n",
       "      <td>...</td>\n",
       "      <td>...</td>\n",
       "      <td>...</td>\n",
       "      <td>...</td>\n",
       "      <td>...</td>\n",
       "      <td>...</td>\n",
       "      <td>...</td>\n",
       "      <td>...</td>\n",
       "      <td>...</td>\n",
       "      <td>...</td>\n",
       "      <td>...</td>\n",
       "      <td>...</td>\n",
       "      <td>...</td>\n",
       "      <td>...</td>\n",
       "      <td>...</td>\n",
       "    </tr>\n",
       "    <tr>\n",
       "      <th>24995</th>\n",
       "      <td>29995</td>\n",
       "      <td>3</td>\n",
       "      <td>0</td>\n",
       "      <td>0</td>\n",
       "      <td>Salried</td>\n",
       "      <td>4</td>\n",
       "      <td>225 to 250</td>\n",
       "      <td>5614</td>\n",
       "      <td>22</td>\n",
       "      <td>0</td>\n",
       "      <td>...</td>\n",
       "      <td>36.1</td>\n",
       "      <td>smokes</td>\n",
       "      <td>Kanpur</td>\n",
       "      <td>79</td>\n",
       "      <td>Y</td>\n",
       "      <td>Rare</td>\n",
       "      <td>Moderate</td>\n",
       "      <td>4</td>\n",
       "      <td>40</td>\n",
       "      <td>39488</td>\n",
       "    </tr>\n",
       "    <tr>\n",
       "      <th>24996</th>\n",
       "      <td>29996</td>\n",
       "      <td>6</td>\n",
       "      <td>0</td>\n",
       "      <td>0</td>\n",
       "      <td>Business</td>\n",
       "      <td>4</td>\n",
       "      <td>200 to 225</td>\n",
       "      <td>4719</td>\n",
       "      <td>58</td>\n",
       "      <td>0</td>\n",
       "      <td>...</td>\n",
       "      <td>31.3</td>\n",
       "      <td>never smoked</td>\n",
       "      <td>Kanpur</td>\n",
       "      <td>66</td>\n",
       "      <td>N</td>\n",
       "      <td>Rare</td>\n",
       "      <td>Moderate</td>\n",
       "      <td>2</td>\n",
       "      <td>28</td>\n",
       "      <td>14808</td>\n",
       "    </tr>\n",
       "    <tr>\n",
       "      <th>24997</th>\n",
       "      <td>29997</td>\n",
       "      <td>7</td>\n",
       "      <td>0</td>\n",
       "      <td>1</td>\n",
       "      <td>Student</td>\n",
       "      <td>2</td>\n",
       "      <td>150 to 175</td>\n",
       "      <td>5624</td>\n",
       "      <td>34</td>\n",
       "      <td>0</td>\n",
       "      <td>...</td>\n",
       "      <td>NaN</td>\n",
       "      <td>Unknown</td>\n",
       "      <td>Bhubaneswar</td>\n",
       "      <td>76</td>\n",
       "      <td>N</td>\n",
       "      <td>Rare</td>\n",
       "      <td>Moderate</td>\n",
       "      <td>1</td>\n",
       "      <td>35</td>\n",
       "      <td>33318</td>\n",
       "    </tr>\n",
       "    <tr>\n",
       "      <th>24998</th>\n",
       "      <td>29998</td>\n",
       "      <td>1</td>\n",
       "      <td>0</td>\n",
       "      <td>0</td>\n",
       "      <td>Salried</td>\n",
       "      <td>2</td>\n",
       "      <td>225 to 250</td>\n",
       "      <td>10777</td>\n",
       "      <td>27</td>\n",
       "      <td>0</td>\n",
       "      <td>...</td>\n",
       "      <td>26.6</td>\n",
       "      <td>Unknown</td>\n",
       "      <td>Surat</td>\n",
       "      <td>74</td>\n",
       "      <td>N</td>\n",
       "      <td>Rare</td>\n",
       "      <td>Moderate</td>\n",
       "      <td>0</td>\n",
       "      <td>40</td>\n",
       "      <td>30850</td>\n",
       "    </tr>\n",
       "    <tr>\n",
       "      <th>24999</th>\n",
       "      <td>29999</td>\n",
       "      <td>8</td>\n",
       "      <td>2</td>\n",
       "      <td>0</td>\n",
       "      <td>Business</td>\n",
       "      <td>4</td>\n",
       "      <td>150 to 175</td>\n",
       "      <td>5882</td>\n",
       "      <td>22</td>\n",
       "      <td>1</td>\n",
       "      <td>...</td>\n",
       "      <td>41.6</td>\n",
       "      <td>formerly smoked</td>\n",
       "      <td>Chennai</td>\n",
       "      <td>57</td>\n",
       "      <td>N</td>\n",
       "      <td>No</td>\n",
       "      <td>No</td>\n",
       "      <td>4</td>\n",
       "      <td>21</td>\n",
       "      <td>6170</td>\n",
       "    </tr>\n",
       "  </tbody>\n",
       "</table>\n",
       "<p>25000 rows × 23 columns</p>\n",
       "</div>"
      ],
      "text/plain": [
       "       applicant_id  years_of_insurance_with_us  regular_checkup_lasy_year  \\\n",
       "0              5000                           3                          1   \n",
       "1              5001                           0                          0   \n",
       "2              5002                           1                          0   \n",
       "3              5003                           7                          4   \n",
       "4              5004                           3                          1   \n",
       "...             ...                         ...                        ...   \n",
       "24995         29995                           3                          0   \n",
       "24996         29996                           6                          0   \n",
       "24997         29997                           7                          0   \n",
       "24998         29998                           1                          0   \n",
       "24999         29999                           8                          2   \n",
       "\n",
       "       adventure_sports Occupation  visited_doctor_last_1_year  \\\n",
       "0                     1    Salried                           2   \n",
       "1                     0    Student                           4   \n",
       "2                     0   Business                           4   \n",
       "3                     0   Business                           2   \n",
       "4                     0    Student                           2   \n",
       "...                 ...        ...                         ...   \n",
       "24995                 0    Salried                           4   \n",
       "24996                 0   Business                           4   \n",
       "24997                 1    Student                           2   \n",
       "24998                 0    Salried                           2   \n",
       "24999                 0   Business                           4   \n",
       "\n",
       "      cholesterol_level  daily_avg_steps  age  heart_decs_history  ...   bmi  \\\n",
       "0            125 to 150             4866   28                   1  ...  31.2   \n",
       "1            150 to 175             6411   50                   0  ...  34.2   \n",
       "2            200 to 225             4509   68                   0  ...  40.4   \n",
       "3            175 to 200             6214   51                   0  ...  22.9   \n",
       "4            150 to 175             4938   44                   0  ...  26.5   \n",
       "...                 ...              ...  ...                 ...  ...   ...   \n",
       "24995        225 to 250             5614   22                   0  ...  36.1   \n",
       "24996        200 to 225             4719   58                   0  ...  31.3   \n",
       "24997        150 to 175             5624   34                   0  ...   NaN   \n",
       "24998        225 to 250            10777   27                   0  ...  26.6   \n",
       "24999        150 to 175             5882   22                   1  ...  41.6   \n",
       "\n",
       "        smoking_status     Location  weight covered_by_any_other_company  \\\n",
       "0              Unknown      Chennai      67                            N   \n",
       "1      formerly smoked       Jaipur      58                            N   \n",
       "2      formerly smoked       Jaipur      73                            N   \n",
       "3              Unknown      Chennai      71                            Y   \n",
       "4         never smoked    Bangalore      74                            N   \n",
       "...                ...          ...     ...                          ...   \n",
       "24995           smokes       Kanpur      79                            Y   \n",
       "24996     never smoked       Kanpur      66                            N   \n",
       "24997          Unknown  Bhubaneswar      76                            N   \n",
       "24998          Unknown        Surat      74                            N   \n",
       "24999  formerly smoked      Chennai      57                            N   \n",
       "\n",
       "      Alcohol  exercise weight_change_in_last_one_year fat_percentage  \\\n",
       "0        Rare  Moderate                              1             25   \n",
       "1        Rare  Moderate                              3             27   \n",
       "2       Daily   Extreme                              0             32   \n",
       "3        Rare        No                              3             37   \n",
       "4          No   Extreme                              0             34   \n",
       "...       ...       ...                            ...            ...   \n",
       "24995    Rare  Moderate                              4             40   \n",
       "24996    Rare  Moderate                              2             28   \n",
       "24997    Rare  Moderate                              1             35   \n",
       "24998    Rare  Moderate                              0             40   \n",
       "24999      No        No                              4             21   \n",
       "\n",
       "      insurance_cost  \n",
       "0              20978  \n",
       "1               6170  \n",
       "2              28382  \n",
       "3              27148  \n",
       "4              29616  \n",
       "...              ...  \n",
       "24995          39488  \n",
       "24996          14808  \n",
       "24997          33318  \n",
       "24998          30850  \n",
       "24999           6170  \n",
       "\n",
       "[25000 rows x 23 columns]"
      ]
     },
     "execution_count": 11,
     "metadata": {},
     "output_type": "execute_result"
    }
   ],
   "source": [
    "HC_Data"
   ]
  },
  {
   "cell_type": "markdown",
   "id": "a59c4899",
   "metadata": {},
   "source": [
    "### b) Missing Value treatment (if applicable)\t "
   ]
  },
  {
   "cell_type": "code",
   "execution_count": 12,
   "id": "ba5cd78e",
   "metadata": {},
   "outputs": [],
   "source": [
    "columns_with_missing = ['bmi']\n",
    "\n",
    "# Fill missing values in 'bmi' column with mean\n",
    "HC_Data['bmi'].fillna(HC_Data['bmi'].mean(), inplace=True)"
   ]
  },
  {
   "cell_type": "code",
   "execution_count": 13,
   "id": "24f01996",
   "metadata": {},
   "outputs": [
    {
     "data": {
      "text/plain": [
       "applicant_id                      0\n",
       "years_of_insurance_with_us        0\n",
       "regular_checkup_lasy_year         0\n",
       "adventure_sports                  0\n",
       "Occupation                        0\n",
       "visited_doctor_last_1_year        0\n",
       "cholesterol_level                 0\n",
       "daily_avg_steps                   0\n",
       "age                               0\n",
       "heart_decs_history                0\n",
       "other_major_decs_history          0\n",
       "Gender                            0\n",
       "avg_glucose_level                 0\n",
       "bmi                               0\n",
       "smoking_status                    0\n",
       "Location                          0\n",
       "weight                            0\n",
       "covered_by_any_other_company      0\n",
       "Alcohol                           0\n",
       "exercise                          0\n",
       "weight_change_in_last_one_year    0\n",
       "fat_percentage                    0\n",
       "insurance_cost                    0\n",
       "dtype: int64"
      ]
     },
     "execution_count": 13,
     "metadata": {},
     "output_type": "execute_result"
    }
   ],
   "source": [
    "HC_Data.isnull().sum()"
   ]
  },
  {
   "cell_type": "markdown",
   "id": "5cb97eca",
   "metadata": {},
   "source": [
    "### d) Outlier treatment (if required)\t "
   ]
  },
  {
   "cell_type": "code",
   "execution_count": 14,
   "id": "f662dd35",
   "metadata": {},
   "outputs": [
    {
     "data": {
      "image/png": "[encoded data removed]",
      "text/plain": [
       "<Figure size 1200x800 with 15 Axes>"
      ]
     },
     "metadata": {},
     "output_type": "display_data"
    }
   ],
   "source": [
    "data=HC_Data = HC_Data.select_dtypes(include = ['float64', 'int64'])\n",
    "plt.figure(figsize = (12,8))\n",
    "feature_list = data.columns\n",
    "for i in range(len(feature_list)):\n",
    "    plt.subplot(4, 4, i + 1)\n",
    "    sns.boxplot(y = data[feature_list[i]], data = data)\n",
    "    plt.title('Boxplot of {}'.format(feature_list[i]))\n",
    "    plt.tight_layout()"
   ]
  },
  {
   "cell_type": "code",
   "execution_count": 15,
   "id": "3ffdc3e3",
   "metadata": {},
   "outputs": [],
   "source": [
    "# Defining a funtion to remove outliers\n",
    "def remove_outlier(col):\n",
    "    Q1,Q3=col.quantile([0.25,0.75])\n",
    "    IQR=Q3-Q1\n",
    "    lower_range= Q1-(1.5 * IQR)\n",
    "    upper_range= Q3+(1.5 * IQR)\n",
    "    return lower_range, upper_range  "
   ]
  },
  {
   "cell_type": "code",
   "execution_count": 16,
   "id": "1fcf329a",
   "metadata": {},
   "outputs": [],
   "source": [
    "for i in feature_list:\n",
    "    LL, UL = remove_outlier(data[i])\n",
    "    data[i] = np.where(data[i] > UL, UL, data[i])\n",
    "    data[i] = np.where(data[i] < LL, LL, data[i])"
   ]
  },
  {
   "cell_type": "code",
   "execution_count": 17,
   "id": "140c5e07",
   "metadata": {},
   "outputs": [
    {
     "data": {
      "image/png": "[encoded data removed]",
      "text/plain": [
       "<Figure size 1200x800 with 15 Axes>"
      ]
     },
     "metadata": {},
     "output_type": "display_data"
    }
   ],
   "source": [
    "plt.figure(figsize = (12,8))\n",
    "feature_list = data.columns\n",
    "for i in range(len(feature_list)):\n",
    "    plt.subplot(4, 4, i + 1)\n",
    "    sns.boxplot(y = data[feature_list[i]], data = data)\n",
    "    plt.title('Boxplot of {}'.format(feature_list[i]))\n",
    "    plt.tight_layout()"
   ]
  },
  {
   "cell_type": "markdown",
   "id": "34cd783d",
   "metadata": {},
   "source": [
    "### e) Variable transformation (if applicable)\t "
   ]
  },
  {
   "cell_type": "code",
   "execution_count": 18,
   "id": "e3949a32",
   "metadata": {},
   "outputs": [],
   "source": [
    "categorical_columns = ['covered_by_any_other_company', 'Gender']"
   ]
  },
  {
   "cell_type": "code",
   "execution_count": 19,
   "id": "15c46139",
   "metadata": {},
   "outputs": [
    {
     "name": "stdout",
     "output_type": "stream",
     "text": [
      "Index(['applicant_id', 'years_of_insurance_with_us',\n",
      "       'regular_checkup_lasy_year', 'adventure_sports',\n",
      "       'visited_doctor_last_1_year', 'daily_avg_steps', 'age',\n",
      "       'heart_decs_history', 'other_major_decs_history', 'avg_glucose_level',\n",
      "       'bmi', 'weight', 'weight_change_in_last_one_year', 'fat_percentage',\n",
      "       'insurance_cost'],\n",
      "      dtype='object')\n"
     ]
    }
   ],
   "source": [
    "print(HC_Data.columns)"
   ]
  },
  {
   "cell_type": "markdown",
   "id": "1b560eda",
   "metadata": {},
   "source": [
    "## Linear Regression Model"
   ]
  },
  {
   "cell_type": "code",
   "execution_count": 20,
   "id": "4050ce64",
   "metadata": {},
   "outputs": [],
   "source": [
    "import pandas as pd\n",
    "from sklearn.preprocessing import StandardScaler"
   ]
  },
  {
   "cell_type": "code",
   "execution_count": 21,
   "id": "05b9f8e4",
   "metadata": {},
   "outputs": [
    {
     "name": "stdout",
     "output_type": "stream",
     "text": [
      "Standardized Data:\n",
      "   years_of_insurance_with_us  regular_checkup_lasy_year  adventure_sports  \\\n",
      "0                   -0.417807                   0.374779               0.0   \n",
      "1                   -1.568750                  -0.714377               0.0   \n",
      "2                   -1.185102                  -0.714377               0.0   \n",
      "3                    1.116783                   2.008512               0.0   \n",
      "4                   -0.417807                   0.374779               0.0   \n",
      "\n",
      "   visited_doctor_last_1_year  daily_avg_steps       age  heart_decs_history  \\\n",
      "0                   -0.980772        -0.333160 -1.050360                 0.0   \n",
      "1                    0.803748         1.260326  0.315492                 0.0   \n",
      "2                    0.803748        -0.701364  1.433007                 0.0   \n",
      "3                   -0.980772         1.057144  0.377576                 0.0   \n",
      "4                   -0.980772        -0.258901 -0.057013                 0.0   \n",
      "\n",
      "   other_major_decs_history  avg_glucose_level       bmi    weight  \\\n",
      "0                       0.0          -1.124370 -0.002727 -0.494422   \n",
      "1                       0.0           0.708929  0.417798 -1.459569   \n",
      "2                       0.0          -0.024391  1.286883  0.149010   \n",
      "3                       0.0          -0.933069 -1.166180 -0.065467   \n",
      "4                       0.0          -0.789594 -0.661550  0.256249   \n",
      "\n",
      "   weight_change_in_last_one_year  fat_percentage  insurance_cost  \\\n",
      "0                       -0.898041       -0.441634       -0.430722   \n",
      "1                        0.285180       -0.209944       -1.464554   \n",
      "2                       -1.489652        0.369282        0.086194   \n",
      "3                        0.285180        0.948508        0.000041   \n",
      "4                       -1.489652        0.600972        0.172347   \n",
      "\n",
      "   applicant_id  \n",
      "0        5000.0  \n",
      "1        5001.0  \n",
      "2        5002.0  \n",
      "3        5003.0  \n",
      "4        5004.0  \n"
     ]
    }
   ],
   "source": [
    "columns_to_scale = ['years_of_insurance_with_us',\n",
    "       'regular_checkup_lasy_year', 'adventure_sports',\n",
    "       'visited_doctor_last_1_year', 'daily_avg_steps', 'age',\n",
    "       'heart_decs_history', 'other_major_decs_history', 'avg_glucose_level',\n",
    "       'bmi', 'weight', 'weight_change_in_last_one_year', 'fat_percentage',\n",
    "       'insurance_cost']\n",
    "\n",
    "# Initialize StandardScaler and MinMaxScaler\n",
    "scaler_standard = StandardScaler()\n",
    "\n",
    "# Scale the selected columns using StandardScaler\n",
    "HC_Data_scaled_standard = scaler_standard.fit_transform(HC_Data[columns_to_scale])\n",
    "HC_Data_scaled_standard = pd.DataFrame(HC_Data_scaled_standard, columns=columns_to_scale)\n",
    "\n",
    "\n",
    "\n",
    "# Concatenate the scaled columns with the rest of the dataset\n",
    "HC_Data_scaled_standard = pd.concat([HC_Data_scaled_standard, HC_Data.drop(columns=columns_to_scale)], axis=1)\n",
    "\n",
    "# Print the scaled datasets\n",
    "print(\"Standardized Data:\")\n",
    "print(HC_Data_scaled_standard.head())"
   ]
  },
  {
   "cell_type": "code",
   "execution_count": 22,
   "id": "03fc5bf3",
   "metadata": {},
   "outputs": [
    {
     "data": {
      "text/html": [
       "<div>\n",
       "<style scoped>\n",
       "    .dataframe tbody tr th:only-of-type {\n",
       "        vertical-align: middle;\n",
       "    }\n",
       "\n",
       "    .dataframe tbody tr th {\n",
       "        vertical-align: top;\n",
       "    }\n",
       "\n",
       "    .dataframe thead th {\n",
       "        text-align: right;\n",
       "    }\n",
       "</style>\n",
       "<table border=\"1\" class=\"dataframe\">\n",
       "  <thead>\n",
       "    <tr style=\"text-align: right;\">\n",
       "      <th></th>\n",
       "      <th>years_of_insurance_with_us</th>\n",
       "      <th>regular_checkup_lasy_year</th>\n",
       "      <th>adventure_sports</th>\n",
       "      <th>visited_doctor_last_1_year</th>\n",
       "      <th>daily_avg_steps</th>\n",
       "      <th>age</th>\n",
       "      <th>heart_decs_history</th>\n",
       "      <th>other_major_decs_history</th>\n",
       "      <th>avg_glucose_level</th>\n",
       "      <th>bmi</th>\n",
       "      <th>weight</th>\n",
       "      <th>weight_change_in_last_one_year</th>\n",
       "      <th>fat_percentage</th>\n",
       "      <th>insurance_cost</th>\n",
       "      <th>applicant_id</th>\n",
       "    </tr>\n",
       "  </thead>\n",
       "  <tbody>\n",
       "    <tr>\n",
       "      <th>0</th>\n",
       "      <td>-0.417807</td>\n",
       "      <td>0.374779</td>\n",
       "      <td>0.0</td>\n",
       "      <td>-0.980772</td>\n",
       "      <td>-0.333160</td>\n",
       "      <td>-1.050360</td>\n",
       "      <td>0.0</td>\n",
       "      <td>0.0</td>\n",
       "      <td>-1.124370</td>\n",
       "      <td>-0.002727</td>\n",
       "      <td>-0.494422</td>\n",
       "      <td>-0.898041</td>\n",
       "      <td>-0.441634</td>\n",
       "      <td>-0.430722</td>\n",
       "      <td>5000.0</td>\n",
       "    </tr>\n",
       "    <tr>\n",
       "      <th>1</th>\n",
       "      <td>-1.568750</td>\n",
       "      <td>-0.714377</td>\n",
       "      <td>0.0</td>\n",
       "      <td>0.803748</td>\n",
       "      <td>1.260326</td>\n",
       "      <td>0.315492</td>\n",
       "      <td>0.0</td>\n",
       "      <td>0.0</td>\n",
       "      <td>0.708929</td>\n",
       "      <td>0.417798</td>\n",
       "      <td>-1.459569</td>\n",
       "      <td>0.285180</td>\n",
       "      <td>-0.209944</td>\n",
       "      <td>-1.464554</td>\n",
       "      <td>5001.0</td>\n",
       "    </tr>\n",
       "    <tr>\n",
       "      <th>2</th>\n",
       "      <td>-1.185102</td>\n",
       "      <td>-0.714377</td>\n",
       "      <td>0.0</td>\n",
       "      <td>0.803748</td>\n",
       "      <td>-0.701364</td>\n",
       "      <td>1.433007</td>\n",
       "      <td>0.0</td>\n",
       "      <td>0.0</td>\n",
       "      <td>-0.024391</td>\n",
       "      <td>1.286883</td>\n",
       "      <td>0.149010</td>\n",
       "      <td>-1.489652</td>\n",
       "      <td>0.369282</td>\n",
       "      <td>0.086194</td>\n",
       "      <td>5002.0</td>\n",
       "    </tr>\n",
       "    <tr>\n",
       "      <th>3</th>\n",
       "      <td>1.116783</td>\n",
       "      <td>2.008512</td>\n",
       "      <td>0.0</td>\n",
       "      <td>-0.980772</td>\n",
       "      <td>1.057144</td>\n",
       "      <td>0.377576</td>\n",
       "      <td>0.0</td>\n",
       "      <td>0.0</td>\n",
       "      <td>-0.933069</td>\n",
       "      <td>-1.166180</td>\n",
       "      <td>-0.065467</td>\n",
       "      <td>0.285180</td>\n",
       "      <td>0.948508</td>\n",
       "      <td>0.000041</td>\n",
       "      <td>5003.0</td>\n",
       "    </tr>\n",
       "    <tr>\n",
       "      <th>4</th>\n",
       "      <td>-0.417807</td>\n",
       "      <td>0.374779</td>\n",
       "      <td>0.0</td>\n",
       "      <td>-0.980772</td>\n",
       "      <td>-0.258901</td>\n",
       "      <td>-0.057013</td>\n",
       "      <td>0.0</td>\n",
       "      <td>0.0</td>\n",
       "      <td>-0.789594</td>\n",
       "      <td>-0.661550</td>\n",
       "      <td>0.256249</td>\n",
       "      <td>-1.489652</td>\n",
       "      <td>0.600972</td>\n",
       "      <td>0.172347</td>\n",
       "      <td>5004.0</td>\n",
       "    </tr>\n",
       "  </tbody>\n",
       "</table>\n",
       "</div>"
      ],
      "text/plain": [
       "   years_of_insurance_with_us  regular_checkup_lasy_year  adventure_sports  \\\n",
       "0                   -0.417807                   0.374779               0.0   \n",
       "1                   -1.568750                  -0.714377               0.0   \n",
       "2                   -1.185102                  -0.714377               0.0   \n",
       "3                    1.116783                   2.008512               0.0   \n",
       "4                   -0.417807                   0.374779               0.0   \n",
       "\n",
       "   visited_doctor_last_1_year  daily_avg_steps       age  heart_decs_history  \\\n",
       "0                   -0.980772        -0.333160 -1.050360                 0.0   \n",
       "1                    0.803748         1.260326  0.315492                 0.0   \n",
       "2                    0.803748        -0.701364  1.433007                 0.0   \n",
       "3                   -0.980772         1.057144  0.377576                 0.0   \n",
       "4                   -0.980772        -0.258901 -0.057013                 0.0   \n",
       "\n",
       "   other_major_decs_history  avg_glucose_level       bmi    weight  \\\n",
       "0                       0.0          -1.124370 -0.002727 -0.494422   \n",
       "1                       0.0           0.708929  0.417798 -1.459569   \n",
       "2                       0.0          -0.024391  1.286883  0.149010   \n",
       "3                       0.0          -0.933069 -1.166180 -0.065467   \n",
       "4                       0.0          -0.789594 -0.661550  0.256249   \n",
       "\n",
       "   weight_change_in_last_one_year  fat_percentage  insurance_cost  \\\n",
       "0                       -0.898041       -0.441634       -0.430722   \n",
       "1                        0.285180       -0.209944       -1.464554   \n",
       "2                       -1.489652        0.369282        0.086194   \n",
       "3                        0.285180        0.948508        0.000041   \n",
       "4                       -1.489652        0.600972        0.172347   \n",
       "\n",
       "   applicant_id  \n",
       "0        5000.0  \n",
       "1        5001.0  \n",
       "2        5002.0  \n",
       "3        5003.0  \n",
       "4        5004.0  "
      ]
     },
     "execution_count": 22,
     "metadata": {},
     "output_type": "execute_result"
    }
   ],
   "source": [
    "HC_Data_scaled_standard.head()"
   ]
  },
  {
   "cell_type": "code",
   "execution_count": 23,
   "id": "39384671",
   "metadata": {},
   "outputs": [],
   "source": [
    "# Copy all the predictor variables into X dataframe\n",
    "X = HC_Data_scaled_standard.drop('insurance_cost', axis=1)\n",
    "\n",
    "# Copy target into the y dataframe. \n",
    "y = HC_Data_scaled_standard[['insurance_cost']]"
   ]
  },
  {
   "cell_type": "code",
   "execution_count": 24,
   "id": "3cfbafc0",
   "metadata": {},
   "outputs": [
    {
     "data": {
      "text/html": [
       "<div>\n",
       "<style scoped>\n",
       "    .dataframe tbody tr th:only-of-type {\n",
       "        vertical-align: middle;\n",
       "    }\n",
       "\n",
       "    .dataframe tbody tr th {\n",
       "        vertical-align: top;\n",
       "    }\n",
       "\n",
       "    .dataframe thead th {\n",
       "        text-align: right;\n",
       "    }\n",
       "</style>\n",
       "<table border=\"1\" class=\"dataframe\">\n",
       "  <thead>\n",
       "    <tr style=\"text-align: right;\">\n",
       "      <th></th>\n",
       "      <th>years_of_insurance_with_us</th>\n",
       "      <th>regular_checkup_lasy_year</th>\n",
       "      <th>adventure_sports</th>\n",
       "      <th>visited_doctor_last_1_year</th>\n",
       "      <th>daily_avg_steps</th>\n",
       "      <th>age</th>\n",
       "      <th>heart_decs_history</th>\n",
       "      <th>other_major_decs_history</th>\n",
       "      <th>avg_glucose_level</th>\n",
       "      <th>bmi</th>\n",
       "      <th>weight</th>\n",
       "      <th>weight_change_in_last_one_year</th>\n",
       "      <th>fat_percentage</th>\n",
       "      <th>applicant_id</th>\n",
       "    </tr>\n",
       "  </thead>\n",
       "  <tbody>\n",
       "    <tr>\n",
       "      <th>0</th>\n",
       "      <td>-0.417807</td>\n",
       "      <td>0.374779</td>\n",
       "      <td>0.0</td>\n",
       "      <td>-0.980772</td>\n",
       "      <td>-0.333160</td>\n",
       "      <td>-1.050360</td>\n",
       "      <td>0.0</td>\n",
       "      <td>0.0</td>\n",
       "      <td>-1.124370</td>\n",
       "      <td>-0.002727</td>\n",
       "      <td>-0.494422</td>\n",
       "      <td>-0.898041</td>\n",
       "      <td>-0.441634</td>\n",
       "      <td>5000.0</td>\n",
       "    </tr>\n",
       "    <tr>\n",
       "      <th>1</th>\n",
       "      <td>-1.568750</td>\n",
       "      <td>-0.714377</td>\n",
       "      <td>0.0</td>\n",
       "      <td>0.803748</td>\n",
       "      <td>1.260326</td>\n",
       "      <td>0.315492</td>\n",
       "      <td>0.0</td>\n",
       "      <td>0.0</td>\n",
       "      <td>0.708929</td>\n",
       "      <td>0.417798</td>\n",
       "      <td>-1.459569</td>\n",
       "      <td>0.285180</td>\n",
       "      <td>-0.209944</td>\n",
       "      <td>5001.0</td>\n",
       "    </tr>\n",
       "    <tr>\n",
       "      <th>2</th>\n",
       "      <td>-1.185102</td>\n",
       "      <td>-0.714377</td>\n",
       "      <td>0.0</td>\n",
       "      <td>0.803748</td>\n",
       "      <td>-0.701364</td>\n",
       "      <td>1.433007</td>\n",
       "      <td>0.0</td>\n",
       "      <td>0.0</td>\n",
       "      <td>-0.024391</td>\n",
       "      <td>1.286883</td>\n",
       "      <td>0.149010</td>\n",
       "      <td>-1.489652</td>\n",
       "      <td>0.369282</td>\n",
       "      <td>5002.0</td>\n",
       "    </tr>\n",
       "    <tr>\n",
       "      <th>3</th>\n",
       "      <td>1.116783</td>\n",
       "      <td>2.008512</td>\n",
       "      <td>0.0</td>\n",
       "      <td>-0.980772</td>\n",
       "      <td>1.057144</td>\n",
       "      <td>0.377576</td>\n",
       "      <td>0.0</td>\n",
       "      <td>0.0</td>\n",
       "      <td>-0.933069</td>\n",
       "      <td>-1.166180</td>\n",
       "      <td>-0.065467</td>\n",
       "      <td>0.285180</td>\n",
       "      <td>0.948508</td>\n",
       "      <td>5003.0</td>\n",
       "    </tr>\n",
       "    <tr>\n",
       "      <th>4</th>\n",
       "      <td>-0.417807</td>\n",
       "      <td>0.374779</td>\n",
       "      <td>0.0</td>\n",
       "      <td>-0.980772</td>\n",
       "      <td>-0.258901</td>\n",
       "      <td>-0.057013</td>\n",
       "      <td>0.0</td>\n",
       "      <td>0.0</td>\n",
       "      <td>-0.789594</td>\n",
       "      <td>-0.661550</td>\n",
       "      <td>0.256249</td>\n",
       "      <td>-1.489652</td>\n",
       "      <td>0.600972</td>\n",
       "      <td>5004.0</td>\n",
       "    </tr>\n",
       "  </tbody>\n",
       "</table>\n",
       "</div>"
      ],
      "text/plain": [
       "   years_of_insurance_with_us  regular_checkup_lasy_year  adventure_sports  \\\n",
       "0                   -0.417807                   0.374779               0.0   \n",
       "1                   -1.568750                  -0.714377               0.0   \n",
       "2                   -1.185102                  -0.714377               0.0   \n",
       "3                    1.116783                   2.008512               0.0   \n",
       "4                   -0.417807                   0.374779               0.0   \n",
       "\n",
       "   visited_doctor_last_1_year  daily_avg_steps       age  heart_decs_history  \\\n",
       "0                   -0.980772        -0.333160 -1.050360                 0.0   \n",
       "1                    0.803748         1.260326  0.315492                 0.0   \n",
       "2                    0.803748        -0.701364  1.433007                 0.0   \n",
       "3                   -0.980772         1.057144  0.377576                 0.0   \n",
       "4                   -0.980772        -0.258901 -0.057013                 0.0   \n",
       "\n",
       "   other_major_decs_history  avg_glucose_level       bmi    weight  \\\n",
       "0                       0.0          -1.124370 -0.002727 -0.494422   \n",
       "1                       0.0           0.708929  0.417798 -1.459569   \n",
       "2                       0.0          -0.024391  1.286883  0.149010   \n",
       "3                       0.0          -0.933069 -1.166180 -0.065467   \n",
       "4                       0.0          -0.789594 -0.661550  0.256249   \n",
       "\n",
       "   weight_change_in_last_one_year  fat_percentage  applicant_id  \n",
       "0                       -0.898041       -0.441634        5000.0  \n",
       "1                        0.285180       -0.209944        5001.0  \n",
       "2                       -1.489652        0.369282        5002.0  \n",
       "3                        0.285180        0.948508        5003.0  \n",
       "4                       -1.489652        0.600972        5004.0  "
      ]
     },
     "execution_count": 24,
     "metadata": {},
     "output_type": "execute_result"
    }
   ],
   "source": [
    "X.head()"
   ]
  },
  {
   "cell_type": "code",
   "execution_count": 25,
   "id": "f69954af",
   "metadata": {},
   "outputs": [],
   "source": [
    "# Split X and y into training and test set in 75:25 ratio\n",
    "from sklearn.model_selection import train_test_split\n",
    "X_train, X_test, y_train, y_test = train_test_split(X, y, test_size=0.25 , random_state=1)"
   ]
  },
  {
   "cell_type": "code",
   "execution_count": 26,
   "id": "50d78646",
   "metadata": {},
   "outputs": [],
   "source": [
    "from sklearn.linear_model import LinearRegression\n",
    "from sklearn import metrics"
   ]
  },
  {
   "cell_type": "code",
   "execution_count": 27,
   "id": "281c97ae",
   "metadata": {},
   "outputs": [
    {
     "data": {
      "text/html": [
       "<style>#sk-container-id-1 {color: black;background-color: white;}#sk-container-id-1 pre{padding: 0;}#sk-container-id-1 div.sk-toggleable {background-color: white;}#sk-container-id-1 label.sk-toggleable__label {cursor: pointer;display: block;width: 100%;margin-bottom: 0;padding: 0.3em;box-sizing: border-box;text-align: center;}#sk-container-id-1 label.sk-toggleable__label-arrow:before {content: \"▸\";float: left;margin-right: 0.25em;color: #696969;}#sk-container-id-1 label.sk-toggleable__label-arrow:hover:before {color: black;}#sk-container-id-1 div.sk-estimator:hover label.sk-toggleable__label-arrow:before {color: black;}#sk-container-id-1 div.sk-toggleable__content {max-height: 0;max-width: 0;overflow: hidden;text-align: left;background-color: #f0f8ff;}#sk-container-id-1 div.sk-toggleable__content pre {margin: 0.2em;color: black;border-radius: 0.25em;background-color: #f0f8ff;}#sk-container-id-1 input.sk-toggleable__control:checked~div.sk-toggleable__content {max-height: 200px;max-width: 100%;overflow: auto;}#sk-container-id-1 input.sk-toggleable__control:checked~label.sk-toggleable__label-arrow:before {content: \"▾\";}#sk-container-id-1 div.sk-estimator input.sk-toggleable__control:checked~label.sk-toggleable__label {background-color: #d4ebff;}#sk-container-id-1 div.sk-label input.sk-toggleable__control:checked~label.sk-toggleable__label {background-color: #d4ebff;}#sk-container-id-1 input.sk-hidden--visually {border: 0;clip: rect(1px 1px 1px 1px);clip: rect(1px, 1px, 1px, 1px);height: 1px;margin: -1px;overflow: hidden;padding: 0;position: absolute;width: 1px;}#sk-container-id-1 div.sk-estimator {font-family: monospace;background-color: #f0f8ff;border: 1px dotted black;border-radius: 0.25em;box-sizing: border-box;margin-bottom: 0.5em;}#sk-container-id-1 div.sk-estimator:hover {background-color: #d4ebff;}#sk-container-id-1 div.sk-parallel-item::after {content: \"\";width: 100%;border-bottom: 1px solid gray;flex-grow: 1;}#sk-container-id-1 div.sk-label:hover label.sk-toggleable__label {background-color: #d4ebff;}#sk-container-id-1 div.sk-serial::before {content: \"\";position: absolute;border-left: 1px solid gray;box-sizing: border-box;top: 0;bottom: 0;left: 50%;z-index: 0;}#sk-container-id-1 div.sk-serial {display: flex;flex-direction: column;align-items: center;background-color: white;padding-right: 0.2em;padding-left: 0.2em;position: relative;}#sk-container-id-1 div.sk-item {position: relative;z-index: 1;}#sk-container-id-1 div.sk-parallel {display: flex;align-items: stretch;justify-content: center;background-color: white;position: relative;}#sk-container-id-1 div.sk-item::before, #sk-container-id-1 div.sk-parallel-item::before {content: \"\";position: absolute;border-left: 1px solid gray;box-sizing: border-box;top: 0;bottom: 0;left: 50%;z-index: -1;}#sk-container-id-1 div.sk-parallel-item {display: flex;flex-direction: column;z-index: 1;position: relative;background-color: white;}#sk-container-id-1 div.sk-parallel-item:first-child::after {align-self: flex-end;width: 50%;}#sk-container-id-1 div.sk-parallel-item:last-child::after {align-self: flex-start;width: 50%;}#sk-container-id-1 div.sk-parallel-item:only-child::after {width: 0;}#sk-container-id-1 div.sk-dashed-wrapped {border: 1px dashed gray;margin: 0 0.4em 0.5em 0.4em;box-sizing: border-box;padding-bottom: 0.4em;background-color: white;}#sk-container-id-1 div.sk-label label {font-family: monospace;font-weight: bold;display: inline-block;line-height: 1.2em;}#sk-container-id-1 div.sk-label-container {text-align: center;}#sk-container-id-1 div.sk-container {/* jupyter's `normalize.less` sets `[hidden] { display: none; }` but bootstrap.min.css set `[hidden] { display: none !important; }` so we also need the `!important` here to be able to override the default hidden behavior on the sphinx rendered scikit-learn.org. See: https://github.com/scikit-learn/scikit-learn/issues/21755 */display: inline-block !important;position: relative;}#sk-container-id-1 div.sk-text-repr-fallback {display: none;}</style><div id=\"sk-container-id-1\" class=\"sk-top-container\"><div class=\"sk-text-repr-fallback\"><pre>LinearRegression()</pre><b>In a Jupyter environment, please rerun this cell to show the HTML representation or trust the notebook. <br />On GitHub, the HTML representation is unable to render, please try loading this page with nbviewer.org.</b></div><div class=\"sk-container\" hidden><div class=\"sk-item\"><div class=\"sk-estimator sk-toggleable\"><input class=\"sk-toggleable__control sk-hidden--visually\" id=\"sk-estimator-id-1\" type=\"checkbox\" checked><label for=\"sk-estimator-id-1\" class=\"sk-toggleable__label sk-toggleable__label-arrow\">LinearRegression</label><div class=\"sk-toggleable__content\"><pre>LinearRegression()</pre></div></div></div></div></div>"
      ],
      "text/plain": [
       "LinearRegression()"
      ]
     },
     "execution_count": 27,
     "metadata": {},
     "output_type": "execute_result"
    }
   ],
   "source": [
    "# invoke the LinearRegression function and find the bestfit model on training data\n",
    "\n",
    "regression_model = LinearRegression()\n",
    "regression_model.fit(X_train, y_train)"
   ]
  },
  {
   "cell_type": "code",
   "execution_count": 28,
   "id": "d984637d",
   "metadata": {},
   "outputs": [
    {
     "name": "stdout",
     "output_type": "stream",
     "text": [
      "The coefficient for years_of_insurance_with_us is 0.008333037813624525\n",
      "The coefficient for regular_checkup_lasy_year is -0.03855146554611448\n",
      "The coefficient for adventure_sports is -1.1102230246251565e-16\n",
      "The coefficient for visited_doctor_last_1_year is -0.002726651369701587\n",
      "The coefficient for daily_avg_steps is -0.0018754264222198786\n",
      "The coefficient for age is 0.003382992223160969\n",
      "The coefficient for heart_decs_history is -6.938893903907228e-18\n",
      "The coefficient for other_major_decs_history is -1.3877787807814457e-17\n",
      "The coefficient for avg_glucose_level is 0.001212951371608237\n",
      "The coefficient for bmi is 0.00013834540809201735\n",
      "The coefficient for weight is 0.9715190558543026\n",
      "The coefficient for weight_change_in_last_one_year is 0.017747384844795214\n",
      "The coefficient for fat_percentage is -0.00041143168730505106\n",
      "The coefficient for applicant_id is 2.2689350082094606e-07\n"
     ]
    }
   ],
   "source": [
    "# Let us explore the coefficients for each of the independent attributes\n",
    "\n",
    "for idx, col_name in enumerate(X_train.columns):\n",
    "    print(\"The coefficient for {} is {}\".format(col_name, regression_model.coef_[0][idx]))"
   ]
  },
  {
   "cell_type": "code",
   "execution_count": 29,
   "id": "f452666a",
   "metadata": {},
   "outputs": [
    {
     "name": "stdout",
     "output_type": "stream",
     "text": [
      "The intercept for our model is -0.003301218753911274\n"
     ]
    }
   ],
   "source": [
    "# Let us check the intercept for the model\n",
    "\n",
    "intercept = regression_model.intercept_[0]\n",
    "\n",
    "print(\"The intercept for our model is {}\".format(intercept))"
   ]
  },
  {
   "cell_type": "code",
   "execution_count": 30,
   "id": "7f253d46",
   "metadata": {},
   "outputs": [
    {
     "data": {
      "text/plain": [
       "0.9432970370670091"
      ]
     },
     "execution_count": 30,
     "metadata": {},
     "output_type": "execute_result"
    }
   ],
   "source": [
    "# R square on training data\n",
    "regression_model.score(X_train, y_train)"
   ]
  },
  {
   "cell_type": "code",
   "execution_count": 31,
   "id": "521a9eb5",
   "metadata": {},
   "outputs": [
    {
     "data": {
      "text/plain": [
       "0.9435897346592227"
      ]
     },
     "execution_count": 31,
     "metadata": {},
     "output_type": "execute_result"
    }
   ],
   "source": [
    "# R square on testing data\n",
    "regression_model.score(X_test, y_test)"
   ]
  },
  {
   "cell_type": "code",
   "execution_count": 32,
   "id": "af010ce7",
   "metadata": {},
   "outputs": [
    {
     "data": {
      "text/plain": [
       "0.2388096124148025"
      ]
     },
     "execution_count": 32,
     "metadata": {},
     "output_type": "execute_result"
    }
   ],
   "source": [
    "#RMSE on Training data\n",
    "predicted_train=regression_model.fit(X_train, y_train).predict(X_train)\n",
    "np.sqrt(metrics.mean_squared_error(y_train,predicted_train))"
   ]
  },
  {
   "cell_type": "code",
   "execution_count": 33,
   "id": "7f839eac",
   "metadata": {},
   "outputs": [
    {
     "data": {
      "text/plain": [
       "0.23542515259928345"
      ]
     },
     "execution_count": 33,
     "metadata": {},
     "output_type": "execute_result"
    }
   ],
   "source": [
    "\n",
    "#RMSE on Testing data\n",
    "predicted_test=regression_model.fit(X_train, y_train).predict(X_test)\n",
    "np.sqrt(metrics.mean_squared_error(y_test,predicted_test))"
   ]
  },
  {
   "cell_type": "markdown",
   "id": "f2eac042",
   "metadata": {},
   "source": [
    "### Linear Regression using statsmodels(OLS)¶\n"
   ]
  },
  {
   "cell_type": "code",
   "execution_count": 34,
   "id": "4142a76c",
   "metadata": {},
   "outputs": [],
   "source": [
    "import statsmodels.api as sm"
   ]
  },
  {
   "cell_type": "code",
   "execution_count": 35,
   "id": "3336b4a4",
   "metadata": {},
   "outputs": [],
   "source": [
    "X_train=sm.add_constant(X_train)# This adds the constant term beta0 to the Simple Linear Regression.\n",
    "X_test=sm.add_constant(X_test)"
   ]
  },
  {
   "cell_type": "code",
   "execution_count": 36,
   "id": "9ba50ded",
   "metadata": {},
   "outputs": [
    {
     "data": {
      "text/plain": [
       "<statsmodels.regression.linear_model.RegressionResultsWrapper at 0x2bc0b1bd210>"
      ]
     },
     "execution_count": 36,
     "metadata": {},
     "output_type": "execute_result"
    }
   ],
   "source": [
    "model = sm.OLS(y_train,X_train).fit()\n",
    "model"
   ]
  },
  {
   "cell_type": "code",
   "execution_count": 37,
   "id": "965763b6",
   "metadata": {},
   "outputs": [
    {
     "data": {
      "text/html": [
       "<table class=\"simpletable\">\n",
       "<caption>OLS Regression Results</caption>\n",
       "<tr>\n",
       "  <th>Dep. Variable:</th>     <td>insurance_cost</td>  <th>  R-squared:         </th> <td>   0.943</td> \n",
       "</tr>\n",
       "<tr>\n",
       "  <th>Model:</th>                   <td>OLS</td>       <th>  Adj. R-squared:    </th> <td>   0.943</td> \n",
       "</tr>\n",
       "<tr>\n",
       "  <th>Method:</th>             <td>Least Squares</td>  <th>  F-statistic:       </th> <td>2.834e+04</td>\n",
       "</tr>\n",
       "<tr>\n",
       "  <th>Date:</th>             <td>Sat, 26 Aug 2023</td> <th>  Prob (F-statistic):</th>  <td>  0.00</td>  \n",
       "</tr>\n",
       "<tr>\n",
       "  <th>Time:</th>                 <td>13:29:52</td>     <th>  Log-Likelihood:    </th> <td>  246.56</td> \n",
       "</tr>\n",
       "<tr>\n",
       "  <th>No. Observations:</th>      <td> 18750</td>      <th>  AIC:               </th> <td>  -469.1</td> \n",
       "</tr>\n",
       "<tr>\n",
       "  <th>Df Residuals:</th>          <td> 18738</td>      <th>  BIC:               </th> <td>  -375.1</td> \n",
       "</tr>\n",
       "<tr>\n",
       "  <th>Df Model:</th>              <td>    11</td>      <th>                     </th>     <td> </td>    \n",
       "</tr>\n",
       "<tr>\n",
       "  <th>Covariance Type:</th>      <td>nonrobust</td>    <th>                     </th>     <td> </td>    \n",
       "</tr>\n",
       "</table>\n",
       "<table class=\"simpletable\">\n",
       "<tr>\n",
       "                 <td></td>                   <th>coef</th>     <th>std err</th>      <th>t</th>      <th>P>|t|</th>  <th>[0.025</th>    <th>0.975]</th>  \n",
       "</tr>\n",
       "<tr>\n",
       "  <th>const</th>                          <td>   -0.0033</td> <td>    0.005</td> <td>   -0.718</td> <td> 0.473</td> <td>   -0.012</td> <td>    0.006</td>\n",
       "</tr>\n",
       "<tr>\n",
       "  <th>years_of_insurance_with_us</th>     <td>    0.0083</td> <td>    0.002</td> <td>    4.778</td> <td> 0.000</td> <td>    0.005</td> <td>    0.012</td>\n",
       "</tr>\n",
       "<tr>\n",
       "  <th>regular_checkup_lasy_year</th>      <td>   -0.0386</td> <td>    0.002</td> <td>  -21.790</td> <td> 0.000</td> <td>   -0.042</td> <td>   -0.035</td>\n",
       "</tr>\n",
       "<tr>\n",
       "  <th>adventure_sports</th>               <td> 1.431e-16</td> <td> 7.01e-19</td> <td>  204.019</td> <td> 0.000</td> <td> 1.42e-16</td> <td> 1.44e-16</td>\n",
       "</tr>\n",
       "<tr>\n",
       "  <th>visited_doctor_last_1_year</th>     <td>   -0.0027</td> <td>    0.002</td> <td>   -1.534</td> <td> 0.125</td> <td>   -0.006</td> <td>    0.001</td>\n",
       "</tr>\n",
       "<tr>\n",
       "  <th>daily_avg_steps</th>                <td>   -0.0019</td> <td>    0.002</td> <td>   -1.054</td> <td> 0.292</td> <td>   -0.005</td> <td>    0.002</td>\n",
       "</tr>\n",
       "<tr>\n",
       "  <th>age</th>                            <td>    0.0034</td> <td>    0.002</td> <td>    1.940</td> <td> 0.052</td> <td>-3.48e-05</td> <td>    0.007</td>\n",
       "</tr>\n",
       "<tr>\n",
       "  <th>heart_decs_history</th>             <td>-2.778e-18</td> <td> 2.26e-19</td> <td>  -12.316</td> <td> 0.000</td> <td>-3.22e-18</td> <td>-2.34e-18</td>\n",
       "</tr>\n",
       "<tr>\n",
       "  <th>other_major_decs_history</th>       <td>  2.43e-19</td> <td> 4.59e-19</td> <td>    0.529</td> <td> 0.597</td> <td>-6.57e-19</td> <td> 1.14e-18</td>\n",
       "</tr>\n",
       "<tr>\n",
       "  <th>avg_glucose_level</th>              <td>    0.0012</td> <td>    0.002</td> <td>    0.695</td> <td> 0.487</td> <td>   -0.002</td> <td>    0.005</td>\n",
       "</tr>\n",
       "<tr>\n",
       "  <th>bmi</th>                            <td>    0.0001</td> <td>    0.002</td> <td>    0.079</td> <td> 0.937</td> <td>   -0.003</td> <td>    0.004</td>\n",
       "</tr>\n",
       "<tr>\n",
       "  <th>weight</th>                         <td>    0.9715</td> <td>    0.002</td> <td>  510.868</td> <td> 0.000</td> <td>    0.968</td> <td>    0.975</td>\n",
       "</tr>\n",
       "<tr>\n",
       "  <th>weight_change_in_last_one_year</th> <td>    0.0177</td> <td>    0.002</td> <td>    9.414</td> <td> 0.000</td> <td>    0.014</td> <td>    0.021</td>\n",
       "</tr>\n",
       "<tr>\n",
       "  <th>fat_percentage</th>                 <td>   -0.0004</td> <td>    0.002</td> <td>   -0.236</td> <td> 0.814</td> <td>   -0.004</td> <td>    0.003</td>\n",
       "</tr>\n",
       "<tr>\n",
       "  <th>applicant_id</th>                   <td> 2.269e-07</td> <td> 2.42e-07</td> <td>    0.936</td> <td> 0.349</td> <td>-2.48e-07</td> <td> 7.02e-07</td>\n",
       "</tr>\n",
       "</table>\n",
       "<table class=\"simpletable\">\n",
       "<tr>\n",
       "  <th>Omnibus:</th>       <td>481.841</td> <th>  Durbin-Watson:     </th> <td>   1.983</td> \n",
       "</tr>\n",
       "<tr>\n",
       "  <th>Prob(Omnibus):</th> <td> 0.000</td>  <th>  Jarque-Bera (JB):  </th> <td> 541.226</td> \n",
       "</tr>\n",
       "<tr>\n",
       "  <th>Skew:</th>          <td> 0.368</td>  <th>  Prob(JB):          </th> <td>2.98e-118</td>\n",
       "</tr>\n",
       "<tr>\n",
       "  <th>Kurtosis:</th>      <td> 3.388</td>  <th>  Cond. No.          </th> <td>2.48e+21</td> \n",
       "</tr>\n",
       "</table><br/><br/>Notes:<br/>[1] Standard Errors assume that the covariance matrix of the errors is correctly specified.<br/>[2] The smallest eigenvalue is 1.09e-30. This might indicate that there are<br/>strong multicollinearity problems or that the design matrix is singular."
      ],
      "text/plain": [
       "<class 'statsmodels.iolib.summary.Summary'>\n",
       "\"\"\"\n",
       "                            OLS Regression Results                            \n",
       "==============================================================================\n",
       "Dep. Variable:         insurance_cost   R-squared:                       0.943\n",
       "Model:                            OLS   Adj. R-squared:                  0.943\n",
       "Method:                 Least Squares   F-statistic:                 2.834e+04\n",
       "Date:                Sat, 26 Aug 2023   Prob (F-statistic):               0.00\n",
       "Time:                        13:29:52   Log-Likelihood:                 246.56\n",
       "No. Observations:               18750   AIC:                            -469.1\n",
       "Df Residuals:                   18738   BIC:                            -375.1\n",
       "Df Model:                          11                                         \n",
       "Covariance Type:            nonrobust                                         \n",
       "==================================================================================================\n",
       "                                     coef    std err          t      P>|t|      [0.025      0.975]\n",
       "--------------------------------------------------------------------------------------------------\n",
       "const                             -0.0033      0.005     -0.718      0.473      -0.012       0.006\n",
       "years_of_insurance_with_us         0.0083      0.002      4.778      0.000       0.005       0.012\n",
       "regular_checkup_lasy_year         -0.0386      0.002    -21.790      0.000      -0.042      -0.035\n",
       "adventure_sports                1.431e-16   7.01e-19    204.019      0.000    1.42e-16    1.44e-16\n",
       "visited_doctor_last_1_year        -0.0027      0.002     -1.534      0.125      -0.006       0.001\n",
       "daily_avg_steps                   -0.0019      0.002     -1.054      0.292      -0.005       0.002\n",
       "age                                0.0034      0.002      1.940      0.052   -3.48e-05       0.007\n",
       "heart_decs_history             -2.778e-18   2.26e-19    -12.316      0.000   -3.22e-18   -2.34e-18\n",
       "other_major_decs_history         2.43e-19   4.59e-19      0.529      0.597   -6.57e-19    1.14e-18\n",
       "avg_glucose_level                  0.0012      0.002      0.695      0.487      -0.002       0.005\n",
       "bmi                                0.0001      0.002      0.079      0.937      -0.003       0.004\n",
       "weight                             0.9715      0.002    510.868      0.000       0.968       0.975\n",
       "weight_change_in_last_one_year     0.0177      0.002      9.414      0.000       0.014       0.021\n",
       "fat_percentage                    -0.0004      0.002     -0.236      0.814      -0.004       0.003\n",
       "applicant_id                    2.269e-07   2.42e-07      0.936      0.349   -2.48e-07    7.02e-07\n",
       "==============================================================================\n",
       "Omnibus:                      481.841   Durbin-Watson:                   1.983\n",
       "Prob(Omnibus):                  0.000   Jarque-Bera (JB):              541.226\n",
       "Skew:                           0.368   Prob(JB):                    2.98e-118\n",
       "Kurtosis:                       3.388   Cond. No.                     2.48e+21\n",
       "==============================================================================\n",
       "\n",
       "Notes:\n",
       "[1] Standard Errors assume that the covariance matrix of the errors is correctly specified.\n",
       "[2] The smallest eigenvalue is 1.09e-30. This might indicate that there are\n",
       "strong multicollinearity problems or that the design matrix is singular.\n",
       "\"\"\""
      ]
     },
     "execution_count": 37,
     "metadata": {},
     "output_type": "execute_result"
    }
   ],
   "source": [
    "model.summary()"
   ]
  },
  {
   "cell_type": "code",
   "execution_count": 38,
   "id": "8fba8f12",
   "metadata": {},
   "outputs": [],
   "source": [
    "#Calculate MSE on train\n",
    "predicted_train=model.predict(X_train)\n",
    "mse=metrics.mean_squared_error(y_train,predicted_train)"
   ]
  },
  {
   "cell_type": "code",
   "execution_count": 39,
   "id": "fafcac83",
   "metadata": {},
   "outputs": [
    {
     "data": {
      "text/plain": [
       "0.2388096124148025"
      ]
     },
     "execution_count": 39,
     "metadata": {},
     "output_type": "execute_result"
    }
   ],
   "source": [
    "np.sqrt(mse) #RMSE on train "
   ]
  },
  {
   "cell_type": "code",
   "execution_count": 40,
   "id": "397b041e",
   "metadata": {},
   "outputs": [],
   "source": [
    "# Prediction on Test data\n",
    "y_pred = model.predict(X_test)"
   ]
  },
  {
   "cell_type": "code",
   "execution_count": 41,
   "id": "d2f834d6",
   "metadata": {},
   "outputs": [
    {
     "data": {
      "text/plain": [
       "0.23542515259929703"
      ]
     },
     "execution_count": 41,
     "metadata": {},
     "output_type": "execute_result"
    }
   ],
   "source": [
    "#Calculate MSE on test\n",
    "mse=metrics.mean_squared_error(y_test,y_pred)\n",
    "np.sqrt(mse) #RMSE on test"
   ]
  },
  {
   "cell_type": "code",
   "execution_count": 42,
   "id": "c75fbeb7",
   "metadata": {},
   "outputs": [
    {
     "data": {
      "image/png": "[encoded data removed]",
      "text/plain": [
       "<Figure size 640x480 with 1 Axes>"
      ]
     },
     "metadata": {},
     "output_type": "display_data"
    }
   ],
   "source": [
    "plt.scatter(y_test, y_pred)\n",
    "plt.show()"
   ]
  },
  {
   "cell_type": "code",
   "execution_count": 43,
   "id": "e2b55d09",
   "metadata": {},
   "outputs": [
    {
     "name": "stdout",
     "output_type": "stream",
     "text": [
      "(-0.0) * const + (0.01) * years_of_insurance_with_us + (-0.04) * regular_checkup_lasy_year + (0.0) * adventure_sports + (-0.0) * visited_doctor_last_1_year + (-0.0) * daily_avg_steps + (0.0) * age + (-0.0) * heart_decs_history + (0.0) * other_major_decs_history + (0.0) * avg_glucose_level + (0.0) * bmi + (0.97) * weight + (0.02) * weight_change_in_last_one_year + (-0.0) * fat_percentage + (0.0) * applicant_id + "
     ]
    }
   ],
   "source": [
    "for i,j in np.array(model.params.reset_index()):\n",
    "    print('({}) * {} +'.format(round(j,2),i),end=' ')"
   ]
  },
  {
   "cell_type": "markdown",
   "id": "09cd5c30",
   "metadata": {},
   "source": [
    "### Ridge Model"
   ]
  },
  {
   "cell_type": "code",
   "execution_count": 44,
   "id": "cc579a78",
   "metadata": {},
   "outputs": [],
   "source": [
    "from sklearn.linear_model import Ridge\n",
    "from sklearn.linear_model import Lasso"
   ]
  },
  {
   "cell_type": "code",
   "execution_count": 45,
   "id": "23e0eef5",
   "metadata": {},
   "outputs": [],
   "source": [
    "from sklearn.metrics import r2_score"
   ]
  },
  {
   "cell_type": "code",
   "execution_count": 46,
   "id": "486b1955",
   "metadata": {},
   "outputs": [
    {
     "name": "stdout",
     "output_type": "stream",
     "text": [
      "Ridge model: [[ 0.00000000e+00  8.33278901e-03 -3.85536263e-02  0.00000000e+00\n",
      "  -2.72634345e-03 -1.87537140e-03  3.38287204e-03  0.00000000e+00\n",
      "   0.00000000e+00  1.21288910e-03  1.38350169e-04  9.71500567e-01\n",
      "   1.77401436e-02 -4.11452404e-04  2.26908073e-07]]\n"
     ]
    }
   ],
   "source": [
    "ridge = Ridge(alpha=.3)\n",
    "ridge.fit(X_train,y_train)\n",
    "print (\"Ridge model:\", (ridge.coef_))"
   ]
  },
  {
   "cell_type": "markdown",
   "id": "f5a81cd9",
   "metadata": {},
   "source": [
    "### LASSO model"
   ]
  },
  {
   "cell_type": "code",
   "execution_count": 47,
   "id": "272ce2f9",
   "metadata": {},
   "outputs": [
    {
     "name": "stdout",
     "output_type": "stream",
     "text": [
      "Lasso model: [ 0.00000000e+00  0.00000000e+00 -0.00000000e+00  0.00000000e+00\n",
      " -0.00000000e+00 -0.00000000e+00  0.00000000e+00  0.00000000e+00\n",
      "  0.00000000e+00  0.00000000e+00 -0.00000000e+00  8.70925569e-01\n",
      " -0.00000000e+00 -0.00000000e+00  3.11986691e-07]\n"
     ]
    }
   ],
   "source": [
    "lasso = Lasso(alpha=0.1)\n",
    "lasso.fit(X_train,y_train)\n",
    "print (\"Lasso model:\", (lasso.coef_))"
   ]
  },
  {
   "cell_type": "markdown",
   "id": "87ad632a",
   "metadata": {},
   "source": [
    "### Let us compare their scores\n",
    "\n"
   ]
  },
  {
   "cell_type": "code",
   "execution_count": 48,
   "id": "d46cda52",
   "metadata": {},
   "outputs": [
    {
     "name": "stdout",
     "output_type": "stream",
     "text": [
      "0.9432970367804934\n",
      "0.9435898036885377\n"
     ]
    }
   ],
   "source": [
    "print(ridge.score(X_train, y_train))\n",
    "print(ridge.score(X_test, y_test))"
   ]
  },
  {
   "cell_type": "code",
   "execution_count": 49,
   "id": "ff850682",
   "metadata": {},
   "outputs": [
    {
     "name": "stdout",
     "output_type": "stream",
     "text": [
      "0.9315293413605128\n",
      "0.9322561329497376\n"
     ]
    }
   ],
   "source": [
    "print(lasso.score(X_train, y_train))\n",
    "print(lasso.score(X_test, y_test))"
   ]
  },
  {
   "cell_type": "code",
   "execution_count": 50,
   "id": "21851649",
   "metadata": {},
   "outputs": [
    {
     "ename": "TypeError",
     "evalue": "'numpy.float64' object is not callable",
     "output_type": "error",
     "traceback": [
      "\u001b[1;31m---------------------------------------------------------------------------\u001b[0m",
      "\u001b[1;31mTypeError\u001b[0m                                 Traceback (most recent call last)",
      "Cell \u001b[1;32mIn[50], line 16\u001b[0m\n\u001b[0;32m     13\u001b[0m y_pred_lasso \u001b[38;5;241m=\u001b[39m lasso_model\u001b[38;5;241m.\u001b[39mpredict(X_test)\n\u001b[0;32m     15\u001b[0m \u001b[38;5;66;03m# Calculate metrics\u001b[39;00m\n\u001b[1;32m---> 16\u001b[0m linear_reg_mse \u001b[38;5;241m=\u001b[39m \u001b[43mmse\u001b[49m\u001b[43m(\u001b[49m\u001b[43my_test\u001b[49m\u001b[43m,\u001b[49m\u001b[43m \u001b[49m\u001b[43my_pred_linear_reg\u001b[49m\u001b[43m)\u001b[49m\n\u001b[0;32m     17\u001b[0m ridge_mse \u001b[38;5;241m=\u001b[39m mse(y_test, y_pred_ridge)\n\u001b[0;32m     18\u001b[0m lasso_mse \u001b[38;5;241m=\u001b[39m mse(y_test, y_pred_lasso)\n",
      "\u001b[1;31mTypeError\u001b[0m: 'numpy.float64' object is not callable"
     ]
    }
   ],
   "source": [
    "linear_reg_model = LinearRegression()\n",
    "ridge_model = Ridge(alpha=1.0)  # You can adjust the alpha value\n",
    "lasso_model = Lasso(alpha=1.0)  # You can adjust the alpha value\n",
    "\n",
    "# Train the models\n",
    "linear_reg_model.fit(X_train, y_train)\n",
    "ridge_model.fit(X_train, y_train)\n",
    "lasso_model.fit(X_train, y_train)\n",
    "\n",
    "# Predict using the trained models\n",
    "y_pred_linear_reg = linear_reg_model.predict(X_test)\n",
    "y_pred_ridge = ridge_model.predict(X_test)\n",
    "y_pred_lasso = lasso_model.predict(X_test)\n",
    "\n",
    "# Calculate metrics\n",
    "linear_reg_mse = mse(y_test, y_pred_linear_reg)\n",
    "ridge_mse = mse(y_test, y_pred_ridge)\n",
    "lasso_mse = mse(y_test, y_pred_lasso)\n",
    "\n",
    "linear_reg_r2 = r2_score(y_test, y_pred_linear_reg)\n",
    "ridge_r2 = r2_score(y_test, y_pred_ridge)\n",
    "lasso_r2 = r2_score(y_test, y_pred_lasso)\n",
    "\n",
    "# Print model scores\n",
    "print(\"Linear Regression - MSE:\", linear_reg_mse)\n",
    "print(\"Linear Regression - R^2:\", linear_reg_r2)\n",
    "print(\"Ridge Regression - MSE:\", ridge_mse)\n",
    "print(\"Ridge Regression - R^2:\", ridge_r2)\n",
    "print(\"Lasso Regression - MSE:\", lasso_mse)\n",
    "print(\"Lasso Regression - R^2:\", lasso_r2)"
   ]
  },
  {
   "cell_type": "code",
   "execution_count": null,
   "id": "0421a3da",
   "metadata": {},
   "outputs": [],
   "source": [
    "pip install scikit-learn"
   ]
  },
  {
   "cell_type": "code",
   "execution_count": 52,
   "id": "48ce3e37",
   "metadata": {},
   "outputs": [],
   "source": [
    "from sklearn.metrics import mean_squared_error"
   ]
  },
  {
   "cell_type": "code",
   "execution_count": 53,
   "id": "72086948",
   "metadata": {},
   "outputs": [
    {
     "name": "stdout",
     "output_type": "stream",
     "text": [
      "Linear Regression - MSE: 0.05542500247639602\n",
      "Linear Regression - R^2: 0.9435897346592226\n",
      "Ridge Regression - MSE: 0.055424778629897226\n",
      "Ridge Regression - R^2: 0.9435899624849299\n",
      "Lasso Regression - MSE: 0.9828535052986102\n",
      "Lasso Regression - R^2: -0.0003252060948384372\n"
     ]
    }
   ],
   "source": [
    "linear_reg_model = LinearRegression()\n",
    "ridge_model = Ridge(alpha=1.0)  # You can adjust the alpha value\n",
    "lasso_model = Lasso(alpha=1.0)  # You can adjust the alpha value\n",
    "\n",
    "# Train the models\n",
    "linear_reg_model.fit(X_train, y_train)\n",
    "ridge_model.fit(X_train, y_train)\n",
    "lasso_model.fit(X_train, y_train)\n",
    "\n",
    "# Predict using the trained models\n",
    "y_pred_linear_reg = linear_reg_model.predict(X_test)\n",
    "y_pred_ridge = ridge_model.predict(X_test)\n",
    "y_pred_lasso = lasso_model.predict(X_test)\n",
    "\n",
    "# Calculate metrics\n",
    "linear_reg_mse = mean_squared_error(y_test, y_pred_linear_reg)\n",
    "ridge_mse = mean_squared_error(y_test, y_pred_ridge)\n",
    "lasso_mse = mean_squared_error(y_test, y_pred_lasso)\n",
    "\n",
    "linear_reg_r2 = r2_score(y_test, y_pred_linear_reg)\n",
    "ridge_r2 = r2_score(y_test, y_pred_ridge)\n",
    "lasso_r2 = r2_score(y_test, y_pred_lasso)\n",
    "\n",
    "# Print model scores\n",
    "print(\"Linear Regression - MSE:\", linear_reg_mse)\n",
    "print(\"Linear Regression - R^2:\", linear_reg_r2)\n",
    "print(\"Ridge Regression - MSE:\", ridge_mse)\n",
    "print(\"Ridge Regression - R^2:\", ridge_r2)\n",
    "print(\"Lasso Regression - MSE:\", lasso_mse)\n",
    "print(\"Lasso Regression - R^2:\", lasso_r2)"
   ]
  },
  {
   "cell_type": "code",
   "execution_count": 54,
   "id": "c912e5a0",
   "metadata": {},
   "outputs": [
    {
     "name": "stdout",
     "output_type": "stream",
     "text": [
      "Linear Regression:\n",
      "R-squared: 0.9435897346592226\n",
      "Adjusted R-squared: 0.9434540025482006\n",
      "MSE: 0.05542500247639602\n",
      "RMSE: 0.2354251525992837\n",
      "\n",
      "Ridge Regression:\n",
      "R-squared: 0.9435899624849299\n",
      "Adjusted R-squared: 0.9434542309220928\n",
      "MSE: 0.055424778629897226\n",
      "RMSE: 0.23542467718974835\n",
      "\n",
      "Lasso Regression:\n",
      "R-squared: -0.0003252060948384372\n",
      "Adjusted R-squared: -0.002732148361669129\n",
      "MSE: 0.9828535052986102\n",
      "RMSE: 0.9913896838774399\n"
     ]
    }
   ],
   "source": [
    "import numpy as np\n",
    "from sklearn.model_selection import train_test_split\n",
    "from sklearn.linear_model import LinearRegression, Ridge, Lasso\n",
    "from sklearn.metrics import r2_score, mean_squared_error\n",
    "\n",
    "# Assuming you have X_train, X_test, y_train, y_test prepared\n",
    "# Replace with your actual data\n",
    "\n",
    "# Initialize the models\n",
    "linear_reg_model = LinearRegression()\n",
    "ridge_model = Ridge(alpha=1.0)  # You can adjust the alpha value\n",
    "lasso_model = Lasso(alpha=1.0)  # You can adjust the alpha value\n",
    "\n",
    "# Train the models\n",
    "linear_reg_model.fit(X_train, y_train)\n",
    "ridge_model.fit(X_train, y_train)\n",
    "lasso_model.fit(X_train, y_train)\n",
    "\n",
    "# Predict using the trained models\n",
    "y_pred_linear_reg = linear_reg_model.predict(X_test)\n",
    "y_pred_ridge = ridge_model.predict(X_test)\n",
    "y_pred_lasso = lasso_model.predict(X_test)\n",
    "\n",
    "# Calculate metrics for Linear Regression\n",
    "linear_reg_r2 = r2_score(y_test, y_pred_linear_reg)\n",
    "linear_reg_mse = mean_squared_error(y_test, y_pred_linear_reg)\n",
    "linear_reg_rmse = np.sqrt(linear_reg_mse)\n",
    "\n",
    "# Calculate metrics for Ridge\n",
    "ridge_r2 = r2_score(y_test, y_pred_ridge)\n",
    "ridge_mse = mean_squared_error(y_test, y_pred_ridge)\n",
    "ridge_rmse = np.sqrt(ridge_mse)\n",
    "\n",
    "# Calculate metrics for Lasso\n",
    "lasso_r2 = r2_score(y_test, y_pred_lasso)\n",
    "lasso_mse = mean_squared_error(y_test, y_pred_lasso)\n",
    "lasso_rmse = np.sqrt(lasso_mse)\n",
    "\n",
    "# Calculate Adjusted R-squared for Linear Regression\n",
    "n = len(y_test)\n",
    "p = X_test.shape[1]\n",
    "linear_reg_adjusted_r2 = 1 - ((1 - linear_reg_r2) * (n - 1) / (n - p - 1))\n",
    "\n",
    "# Calculate Adjusted R-squared for Ridge\n",
    "ridge_adjusted_r2 = 1 - ((1 - ridge_r2) * (n - 1) / (n - p - 1))\n",
    "\n",
    "# Calculate Adjusted R-squared for Lasso\n",
    "lasso_adjusted_r2 = 1 - ((1 - lasso_r2) * (n - 1) / (n - p - 1))\n",
    "\n",
    "# Print model summary\n",
    "print(\"Linear Regression:\")\n",
    "print(\"R-squared:\", linear_reg_r2)\n",
    "print(\"Adjusted R-squared:\", linear_reg_adjusted_r2)\n",
    "print(\"MSE:\", linear_reg_mse)\n",
    "print(\"RMSE:\", linear_reg_rmse)\n",
    "\n",
    "print(\"\\nRidge Regression:\")\n",
    "print(\"R-squared:\", ridge_r2)\n",
    "print(\"Adjusted R-squared:\", ridge_adjusted_r2)\n",
    "print(\"MSE:\", ridge_mse)\n",
    "print(\"RMSE:\", ridge_rmse)\n",
    "\n",
    "print(\"\\nLasso Regression:\")\n",
    "print(\"R-squared:\", lasso_r2)\n",
    "print(\"Adjusted R-squared:\", lasso_adjusted_r2)\n",
    "print(\"MSE:\", lasso_mse)\n",
    "print(\"RMSE:\", lasso_rmse)"
   ]
  },
  {
   "cell_type": "markdown",
   "id": "72ac872a",
   "metadata": {},
   "source": [
    "### Elastic net model"
   ]
  },
  {
   "cell_type": "code",
   "execution_count": 55,
   "id": "98647430",
   "metadata": {},
   "outputs": [
    {
     "name": "stdout",
     "output_type": "stream",
     "text": [
      "Elastic Net Regression:\n",
      "R-squared: 0.513570025627577\n",
      "MSE: 0.47793397835155876\n",
      "RMSE: 0.691327692452399\n"
     ]
    }
   ],
   "source": [
    "from sklearn.model_selection import train_test_split\n",
    "from sklearn.linear_model import ElasticNet\n",
    "from sklearn.metrics import r2_score, mean_squared_error\n",
    "import numpy as np\n",
    "\n",
    "# Assuming you have X_train, X_test, y_train, y_test prepared\n",
    "# Replace with your actual data\n",
    "\n",
    "# Initialize the Elastic Net model\n",
    "elastic_net_model = ElasticNet(alpha=1.0, l1_ratio=0.5)  # You can adjust alpha and l1_ratio values\n",
    "\n",
    "# Train the model\n",
    "elastic_net_model.fit(X_train, y_train)\n",
    "\n",
    "# Predict using the trained model\n",
    "y_pred_elastic_net = elastic_net_model.predict(X_test)\n",
    "\n",
    "# Calculate R-squared (R2)\n",
    "elastic_net_r2 = r2_score(y_test, y_pred_elastic_net)\n",
    "\n",
    "# Calculate Mean Squared Error (MSE)\n",
    "elastic_net_mse = mean_squared_error(y_test, y_pred_elastic_net)\n",
    "\n",
    "# Calculate Root Mean Squared Error (RMSE)\n",
    "elastic_net_rmse = np.sqrt(elastic_net_mse)\n",
    "\n",
    "# Print model summary\n",
    "print(\"Elastic Net Regression:\")\n",
    "print(\"R-squared:\", elastic_net_r2)\n",
    "print(\"MSE:\", elastic_net_mse)\n",
    "print(\"RMSE:\", elastic_net_rmse)"
   ]
  },
  {
   "cell_type": "markdown",
   "id": "08f33a76",
   "metadata": {},
   "source": [
    "### Decision Tree"
   ]
  },
  {
   "cell_type": "code",
   "execution_count": 56,
   "id": "a5e696c9",
   "metadata": {},
   "outputs": [
    {
     "name": "stdout",
     "output_type": "stream",
     "text": [
      "Decision Tree Regressor:\n",
      "R-squared: 0.9014590042298147\n",
      "Adjusted R-squared: 0.9012218988501944\n",
      "MSE: 0.09681987669433965\n",
      "RMSE: 0.31115892514009563\n"
     ]
    }
   ],
   "source": [
    "from sklearn.model_selection import train_test_split\n",
    "from sklearn.tree import DecisionTreeRegressor\n",
    "from sklearn.metrics import r2_score, mean_squared_error\n",
    "import numpy as np\n",
    "\n",
    "# Assuming you have X_train, X_test, y_train, y_test prepared\n",
    "# Replace with your actual data\n",
    "\n",
    "# Initialize the Decision Tree Regressor\n",
    "decision_tree_model = DecisionTreeRegressor(max_depth=None)  # You can adjust hyperparameters\n",
    "\n",
    "# Train the model\n",
    "decision_tree_model.fit(X_train, y_train)\n",
    "\n",
    "# Predict using the trained model\n",
    "y_pred_decision_tree = decision_tree_model.predict(X_test)\n",
    "\n",
    "# Calculate R-squared (R2)\n",
    "decision_tree_r2 = r2_score(y_test, y_pred_decision_tree)\n",
    "\n",
    "# Calculate Adjusted R-squared\n",
    "n = len(y_test)  # Number of samples\n",
    "p = X_test.shape[1]  # Number of features\n",
    "decision_tree_adjusted_r2 = 1 - ((1 - decision_tree_r2) * (n - 1) / (n - p - 1))\n",
    "\n",
    "# Calculate Mean Squared Error (MSE)\n",
    "decision_tree_mse = mean_squared_error(y_test, y_pred_decision_tree)\n",
    "\n",
    "# Calculate Root Mean Squared Error (RMSE)\n",
    "decision_tree_rmse = np.sqrt(decision_tree_mse)\n",
    "\n",
    "# Print model summary\n",
    "print(\"Decision Tree Regressor:\")\n",
    "print(\"R-squared:\", decision_tree_r2)\n",
    "print(\"Adjusted R-squared:\", decision_tree_adjusted_r2)\n",
    "print(\"MSE:\", decision_tree_mse)\n",
    "print(\"RMSE:\", decision_tree_rmse)"
   ]
  },
  {
   "cell_type": "markdown",
   "id": "87259f92",
   "metadata": {},
   "source": [
    "### Random Forest Regressor"
   ]
  },
  {
   "cell_type": "code",
   "execution_count": 57,
   "id": "95d2549d",
   "metadata": {},
   "outputs": [
    {
     "name": "stdout",
     "output_type": "stream",
     "text": [
      "Random Forest Regressor:\n",
      "R-squared: 0.9497728332809717\n",
      "Adjusted R-squared: 0.9496519786931011\n",
      "MSE: 0.04934989798341072\n",
      "RMSE: 0.22214836930171403\n"
     ]
    }
   ],
   "source": [
    "from sklearn.model_selection import train_test_split\n",
    "from sklearn.ensemble import RandomForestRegressor\n",
    "from sklearn.metrics import r2_score, mean_squared_error\n",
    "import numpy as np\n",
    "\n",
    "# Assuming you have X_train, X_test, y_train, y_test prepared\n",
    "# Replace with your actual data\n",
    "\n",
    "# Initialize the Random Forest Regressor\n",
    "random_forest_model = RandomForestRegressor(n_estimators=100, max_depth=None)  # You can adjust hyperparameters\n",
    "\n",
    "# Train the model\n",
    "random_forest_model.fit(X_train, y_train)\n",
    "\n",
    "# Predict using the trained model\n",
    "y_pred_random_forest = random_forest_model.predict(X_test)\n",
    "\n",
    "# Calculate R-squared (R2)\n",
    "random_forest_r2 = r2_score(y_test, y_pred_random_forest)\n",
    "\n",
    "# Calculate Adjusted R-squared\n",
    "n = len(y_test)  # Number of samples\n",
    "p = X_test.shape[1]  # Number of features\n",
    "random_forest_adjusted_r2 = 1 - ((1 - random_forest_r2) * (n - 1) / (n - p - 1))\n",
    "\n",
    "# Calculate Mean Squared Error (MSE)\n",
    "random_forest_mse = mean_squared_error(y_test, y_pred_random_forest)\n",
    "\n",
    "# Calculate Root Mean Squared Error (RMSE)\n",
    "random_forest_rmse = np.sqrt(random_forest_mse)\n",
    "\n",
    "# Print model summary\n",
    "print(\"Random Forest Regressor:\")\n",
    "print(\"R-squared:\", random_forest_r2)\n",
    "print(\"Adjusted R-squared:\", random_forest_adjusted_r2)\n",
    "print(\"MSE:\", random_forest_mse)\n",
    "print(\"RMSE:\", random_forest_rmse)"
   ]
  },
  {
   "cell_type": "code",
   "execution_count": 58,
   "id": "4a315615",
   "metadata": {},
   "outputs": [
    {
     "name": "stdout",
     "output_type": "stream",
     "text": [
      "Linear Regression:\n",
      "R-squared: 0.9435897346592226\n",
      "Adjusted R-squared: 0.9434540025482006\n",
      "MSE: 0.05542500247639602\n",
      "RMSE: 0.2354251525992837\n",
      "\n",
      "Ridge Regression:\n",
      "R-squared: 0.9435899624849299\n",
      "Adjusted R-squared: 0.9434542309220928\n",
      "MSE: 0.055424778629897226\n",
      "RMSE: 0.23542467718974835\n",
      "\n",
      "Lasso Regression:\n",
      "R-squared: -0.0003252060948384372\n",
      "Adjusted R-squared: -0.002732148361669129\n",
      "MSE: 0.9828535052986102\n",
      "RMSE: 0.9913896838774399\n",
      "\n",
      "Decision Tree Regressor:\n",
      "R-squared: 0.9010758537090224\n",
      "Adjusted R-squared: 0.9008378264080336\n",
      "MSE: 0.09719633510018924\n",
      "RMSE: 0.31176326772118174\n",
      "\n",
      "Random Forest Regressor:\n",
      "R-squared: 0.9497150881462522\n",
      "Adjusted R-squared: 0.9495940946143615\n",
      "MSE: 0.04940663454040966\n",
      "RMSE: 0.22227603231209986\n"
     ]
    }
   ],
   "source": [
    "# Linear Regression\n",
    "linear_reg_model = LinearRegression()\n",
    "linear_reg_model.fit(X_train, y_train)\n",
    "y_pred_linear_reg = linear_reg_model.predict(X_test)\n",
    "linear_reg_r2 = r2_score(y_test, y_pred_linear_reg)\n",
    "linear_reg_mse = mean_squared_error(y_test, y_pred_linear_reg)\n",
    "linear_reg_rmse = np.sqrt(linear_reg_mse)\n",
    "n = len(y_test)\n",
    "p = X_test.shape[1]\n",
    "linear_reg_adjusted_r2 = 1 - ((1 - linear_reg_r2) * (n - 1) / (n - p - 1))\n",
    "\n",
    "# Ridge Regression\n",
    "ridge_model = Ridge(alpha=1.0)\n",
    "ridge_model.fit(X_train, y_train)\n",
    "y_pred_ridge = ridge_model.predict(X_test)\n",
    "ridge_r2 = r2_score(y_test, y_pred_ridge)\n",
    "ridge_mse = mean_squared_error(y_test, y_pred_ridge)\n",
    "ridge_rmse = np.sqrt(ridge_mse)\n",
    "ridge_adjusted_r2 = 1 - ((1 - ridge_r2) * (n - 1) / (n - p - 1))\n",
    "\n",
    "# Lasso Regression\n",
    "lasso_model = Lasso(alpha=1.0)\n",
    "lasso_model.fit(X_train, y_train)\n",
    "y_pred_lasso = lasso_model.predict(X_test)\n",
    "lasso_r2 = r2_score(y_test, y_pred_lasso)\n",
    "lasso_mse = mean_squared_error(y_test, y_pred_lasso)\n",
    "lasso_rmse = np.sqrt(lasso_mse)\n",
    "lasso_adjusted_r2 = 1 - ((1 - lasso_r2) * (n - 1) / (n - p - 1))\n",
    "\n",
    "# Decision Tree Regressor\n",
    "decision_tree_model = DecisionTreeRegressor(max_depth=None)\n",
    "decision_tree_model.fit(X_train, y_train)\n",
    "y_pred_decision_tree = decision_tree_model.predict(X_test)\n",
    "decision_tree_r2 = r2_score(y_test, y_pred_decision_tree)\n",
    "decision_tree_mse = mean_squared_error(y_test, y_pred_decision_tree)\n",
    "decision_tree_rmse = np.sqrt(decision_tree_mse)\n",
    "decision_tree_adjusted_r2 = 1 - ((1 - decision_tree_r2) * (n - 1) / (n - p - 1))\n",
    "\n",
    "# Random Forest Regressor\n",
    "random_forest_model = RandomForestRegressor(n_estimators=100, max_depth=None)\n",
    "random_forest_model.fit(X_train, y_train)\n",
    "y_pred_random_forest = random_forest_model.predict(X_test)\n",
    "random_forest_r2 = r2_score(y_test, y_pred_random_forest)\n",
    "random_forest_mse = mean_squared_error(y_test, y_pred_random_forest)\n",
    "random_forest_rmse = np.sqrt(random_forest_mse)\n",
    "random_forest_adjusted_r2 = 1 - ((1 - random_forest_r2) * (n - 1) / (n - p - 1))\n",
    "\n",
    "# Print model summaries\n",
    "print(\"Linear Regression:\")\n",
    "print(\"R-squared:\", linear_reg_r2)\n",
    "print(\"Adjusted R-squared:\", linear_reg_adjusted_r2)\n",
    "print(\"MSE:\", linear_reg_mse)\n",
    "print(\"RMSE:\", linear_reg_rmse)\n",
    "print()\n",
    "\n",
    "print(\"Ridge Regression:\")\n",
    "print(\"R-squared:\", ridge_r2)\n",
    "print(\"Adjusted R-squared:\", ridge_adjusted_r2)\n",
    "print(\"MSE:\", ridge_mse)\n",
    "print(\"RMSE:\", ridge_rmse)\n",
    "print()\n",
    "\n",
    "print(\"Lasso Regression:\")\n",
    "print(\"R-squared:\", lasso_r2)\n",
    "print(\"Adjusted R-squared:\", lasso_adjusted_r2)\n",
    "print(\"MSE:\", lasso_mse)\n",
    "print(\"RMSE:\", lasso_rmse)\n",
    "print()\n",
    "\n",
    "print(\"Decision Tree Regressor:\")\n",
    "print(\"R-squared:\", decision_tree_r2)\n",
    "print(\"Adjusted R-squared:\", decision_tree_adjusted_r2)\n",
    "print(\"MSE:\", decision_tree_mse)\n",
    "print(\"RMSE:\", decision_tree_rmse)\n",
    "print()\n",
    "\n",
    "print(\"Random Forest Regressor:\")\n",
    "print(\"R-squared:\", random_forest_r2)\n",
    "print(\"Adjusted R-squared:\", random_forest_adjusted_r2)\n",
    "print(\"MSE:\", random_forest_mse)\n",
    "print(\"RMSE:\", random_forest_rmse)"
   ]
  },
  {
   "cell_type": "markdown",
   "id": "f38d5cc9",
   "metadata": {},
   "source": [
    "## b. Test your predictive model against the test set using various appropriate performance metrics"
   ]
  },
  {
   "cell_type": "code",
   "execution_count": 59,
   "id": "1b0dd65d",
   "metadata": {},
   "outputs": [
    {
     "name": "stdout",
     "output_type": "stream",
     "text": [
      "                            OLS Regression Results                            \n",
      "==============================================================================\n",
      "Dep. Variable:         insurance_cost   R-squared:                       0.943\n",
      "Model:                            OLS   Adj. R-squared:                  0.943\n",
      "Method:                 Least Squares   F-statistic:                 2.834e+04\n",
      "Date:                Sat, 26 Aug 2023   Prob (F-statistic):               0.00\n",
      "Time:                        13:38:20   Log-Likelihood:                 246.56\n",
      "No. Observations:               18750   AIC:                            -469.1\n",
      "Df Residuals:                   18738   BIC:                            -375.1\n",
      "Df Model:                          11                                         \n",
      "Covariance Type:            nonrobust                                         \n",
      "==================================================================================================\n",
      "                                     coef    std err          t      P>|t|      [0.025      0.975]\n",
      "--------------------------------------------------------------------------------------------------\n",
      "const                             -0.0033      0.005     -0.718      0.473      -0.012       0.006\n",
      "years_of_insurance_with_us         0.0083      0.002      4.778      0.000       0.005       0.012\n",
      "regular_checkup_lasy_year         -0.0386      0.002    -21.790      0.000      -0.042      -0.035\n",
      "adventure_sports                1.431e-16   7.01e-19    204.019      0.000    1.42e-16    1.44e-16\n",
      "visited_doctor_last_1_year        -0.0027      0.002     -1.534      0.125      -0.006       0.001\n",
      "daily_avg_steps                   -0.0019      0.002     -1.054      0.292      -0.005       0.002\n",
      "age                                0.0034      0.002      1.940      0.052   -3.48e-05       0.007\n",
      "heart_decs_history             -2.778e-18   2.26e-19    -12.316      0.000   -3.22e-18   -2.34e-18\n",
      "other_major_decs_history         2.43e-19   4.59e-19      0.529      0.597   -6.57e-19    1.14e-18\n",
      "avg_glucose_level                  0.0012      0.002      0.695      0.487      -0.002       0.005\n",
      "bmi                                0.0001      0.002      0.079      0.937      -0.003       0.004\n",
      "weight                             0.9715      0.002    510.868      0.000       0.968       0.975\n",
      "weight_change_in_last_one_year     0.0177      0.002      9.414      0.000       0.014       0.021\n",
      "fat_percentage                    -0.0004      0.002     -0.236      0.814      -0.004       0.003\n",
      "applicant_id                    2.269e-07   2.42e-07      0.936      0.349   -2.48e-07    7.02e-07\n",
      "==============================================================================\n",
      "Omnibus:                      481.841   Durbin-Watson:                   1.983\n",
      "Prob(Omnibus):                  0.000   Jarque-Bera (JB):              541.226\n",
      "Skew:                           0.368   Prob(JB):                    2.98e-118\n",
      "Kurtosis:                       3.388   Cond. No.                     2.48e+21\n",
      "==============================================================================\n",
      "\n",
      "Notes:\n",
      "[1] Standard Errors assume that the covariance matrix of the errors is correctly specified.\n",
      "[2] The smallest eigenvalue is 1.09e-30. This might indicate that there are\n",
      "strong multicollinearity problems or that the design matrix is singular.\n"
     ]
    },
    {
     "ename": "ValueError",
     "evalue": "could not convert string to float: 'P>|t|'",
     "output_type": "error",
     "traceback": [
      "\u001b[1;31m---------------------------------------------------------------------------\u001b[0m",
      "\u001b[1;31mValueError\u001b[0m                                Traceback (most recent call last)",
      "Cell \u001b[1;32mIn[59], line 14\u001b[0m\n\u001b[0;32m     12\u001b[0m \u001b[38;5;66;03m# Step 3: Identify insignificant variables\u001b[39;00m\n\u001b[0;32m     13\u001b[0m insignificant_vars \u001b[38;5;241m=\u001b[39m summary\u001b[38;5;241m.\u001b[39mtables[\u001b[38;5;241m1\u001b[39m]\u001b[38;5;241m.\u001b[39mdata\n\u001b[1;32m---> 14\u001b[0m insignificant_vars \u001b[38;5;241m=\u001b[39m [row[\u001b[38;5;241m0\u001b[39m] \u001b[38;5;28;01mfor\u001b[39;00m row \u001b[38;5;129;01min\u001b[39;00m insignificant_vars \u001b[38;5;28;01mif\u001b[39;00m \u001b[38;5;28mfloat\u001b[39m(row[\u001b[38;5;241m4\u001b[39m]) \u001b[38;5;241m>\u001b[39m \u001b[38;5;241m0.05\u001b[39m]\n\u001b[0;32m     16\u001b[0m \u001b[38;5;66;03m# Step 4: Remove insignificant variables from X_train\u001b[39;00m\n\u001b[0;32m     17\u001b[0m X_train_reduced \u001b[38;5;241m=\u001b[39m X_train\u001b[38;5;241m.\u001b[39mdrop(columns\u001b[38;5;241m=\u001b[39minsignificant_vars)\n",
      "Cell \u001b[1;32mIn[59], line 14\u001b[0m, in \u001b[0;36m<listcomp>\u001b[1;34m(.0)\u001b[0m\n\u001b[0;32m     12\u001b[0m \u001b[38;5;66;03m# Step 3: Identify insignificant variables\u001b[39;00m\n\u001b[0;32m     13\u001b[0m insignificant_vars \u001b[38;5;241m=\u001b[39m summary\u001b[38;5;241m.\u001b[39mtables[\u001b[38;5;241m1\u001b[39m]\u001b[38;5;241m.\u001b[39mdata\n\u001b[1;32m---> 14\u001b[0m insignificant_vars \u001b[38;5;241m=\u001b[39m [row[\u001b[38;5;241m0\u001b[39m] \u001b[38;5;28;01mfor\u001b[39;00m row \u001b[38;5;129;01min\u001b[39;00m insignificant_vars \u001b[38;5;28;01mif\u001b[39;00m \u001b[38;5;28;43mfloat\u001b[39;49m\u001b[43m(\u001b[49m\u001b[43mrow\u001b[49m\u001b[43m[\u001b[49m\u001b[38;5;241;43m4\u001b[39;49m\u001b[43m]\u001b[49m\u001b[43m)\u001b[49m \u001b[38;5;241m>\u001b[39m \u001b[38;5;241m0.05\u001b[39m]\n\u001b[0;32m     16\u001b[0m \u001b[38;5;66;03m# Step 4: Remove insignificant variables from X_train\u001b[39;00m\n\u001b[0;32m     17\u001b[0m X_train_reduced \u001b[38;5;241m=\u001b[39m X_train\u001b[38;5;241m.\u001b[39mdrop(columns\u001b[38;5;241m=\u001b[39minsignificant_vars)\n",
      "\u001b[1;31mValueError\u001b[0m: could not convert string to float: 'P>|t|'"
     ]
    }
   ],
   "source": [
    "import statsmodels.api as sm\n",
    "\n",
    "# Assuming you have already prepared your training data X_train and y_train\n",
    "\n",
    "# Step 1: Fit a linear regression model\n",
    "model = sm.OLS(y_train, sm.add_constant(X_train)).fit()\n",
    "\n",
    "# Step 2: Get summary to see p-values\n",
    "summary = model.summary()\n",
    "print(summary)\n",
    "\n",
    "# Step 3: Identify insignificant variables\n",
    "insignificant_vars = summary.tables[1].data\n",
    "insignificant_vars = [row[0] for row in insignificant_vars if float(row[4]) > 0.05]\n",
    "\n",
    "# Step 4: Remove insignificant variables from X_train\n",
    "X_train_reduced = X_train.drop(columns=insignificant_vars)\n",
    "\n",
    "# Step 5: Refit the model with the remaining significant variables\n",
    "model_reduced = sm.OLS(y_train, sm.add_constant(X_train_reduced)).fit()\n",
    "print(model_reduced.summary())"
   ]
  },
  {
   "cell_type": "code",
   "execution_count": 60,
   "id": "91ed8ec7",
   "metadata": {},
   "outputs": [
    {
     "name": "stdout",
     "output_type": "stream",
     "text": [
      "                           feature       VIF\n",
      "0                            const  6.937602\n",
      "1       years_of_insurance_with_us  1.000653\n",
      "2        regular_checkup_lasy_year  1.027435\n",
      "3                 adventure_sports       NaN\n",
      "4       visited_doctor_last_1_year  1.030305\n",
      "5                  daily_avg_steps  1.030659\n",
      "6                              age  1.000422\n",
      "7               heart_decs_history       NaN\n",
      "8         other_major_decs_history       NaN\n",
      "9                avg_glucose_level  1.000600\n",
      "10                             bmi  1.001192\n",
      "11                          weight  1.194798\n",
      "12  weight_change_in_last_one_year  1.169595\n",
      "13                  fat_percentage  1.004235\n",
      "14                    applicant_id  1.000563\n"
     ]
    },
    {
     "data": {
      "text/html": [
       "<style>#sk-container-id-2 {color: black;background-color: white;}#sk-container-id-2 pre{padding: 0;}#sk-container-id-2 div.sk-toggleable {background-color: white;}#sk-container-id-2 label.sk-toggleable__label {cursor: pointer;display: block;width: 100%;margin-bottom: 0;padding: 0.3em;box-sizing: border-box;text-align: center;}#sk-container-id-2 label.sk-toggleable__label-arrow:before {content: \"▸\";float: left;margin-right: 0.25em;color: #696969;}#sk-container-id-2 label.sk-toggleable__label-arrow:hover:before {color: black;}#sk-container-id-2 div.sk-estimator:hover label.sk-toggleable__label-arrow:before {color: black;}#sk-container-id-2 div.sk-toggleable__content {max-height: 0;max-width: 0;overflow: hidden;text-align: left;background-color: #f0f8ff;}#sk-container-id-2 div.sk-toggleable__content pre {margin: 0.2em;color: black;border-radius: 0.25em;background-color: #f0f8ff;}#sk-container-id-2 input.sk-toggleable__control:checked~div.sk-toggleable__content {max-height: 200px;max-width: 100%;overflow: auto;}#sk-container-id-2 input.sk-toggleable__control:checked~label.sk-toggleable__label-arrow:before {content: \"▾\";}#sk-container-id-2 div.sk-estimator input.sk-toggleable__control:checked~label.sk-toggleable__label {background-color: #d4ebff;}#sk-container-id-2 div.sk-label input.sk-toggleable__control:checked~label.sk-toggleable__label {background-color: #d4ebff;}#sk-container-id-2 input.sk-hidden--visually {border: 0;clip: rect(1px 1px 1px 1px);clip: rect(1px, 1px, 1px, 1px);height: 1px;margin: -1px;overflow: hidden;padding: 0;position: absolute;width: 1px;}#sk-container-id-2 div.sk-estimator {font-family: monospace;background-color: #f0f8ff;border: 1px dotted black;border-radius: 0.25em;box-sizing: border-box;margin-bottom: 0.5em;}#sk-container-id-2 div.sk-estimator:hover {background-color: #d4ebff;}#sk-container-id-2 div.sk-parallel-item::after {content: \"\";width: 100%;border-bottom: 1px solid gray;flex-grow: 1;}#sk-container-id-2 div.sk-label:hover label.sk-toggleable__label {background-color: #d4ebff;}#sk-container-id-2 div.sk-serial::before {content: \"\";position: absolute;border-left: 1px solid gray;box-sizing: border-box;top: 0;bottom: 0;left: 50%;z-index: 0;}#sk-container-id-2 div.sk-serial {display: flex;flex-direction: column;align-items: center;background-color: white;padding-right: 0.2em;padding-left: 0.2em;position: relative;}#sk-container-id-2 div.sk-item {position: relative;z-index: 1;}#sk-container-id-2 div.sk-parallel {display: flex;align-items: stretch;justify-content: center;background-color: white;position: relative;}#sk-container-id-2 div.sk-item::before, #sk-container-id-2 div.sk-parallel-item::before {content: \"\";position: absolute;border-left: 1px solid gray;box-sizing: border-box;top: 0;bottom: 0;left: 50%;z-index: -1;}#sk-container-id-2 div.sk-parallel-item {display: flex;flex-direction: column;z-index: 1;position: relative;background-color: white;}#sk-container-id-2 div.sk-parallel-item:first-child::after {align-self: flex-end;width: 50%;}#sk-container-id-2 div.sk-parallel-item:last-child::after {align-self: flex-start;width: 50%;}#sk-container-id-2 div.sk-parallel-item:only-child::after {width: 0;}#sk-container-id-2 div.sk-dashed-wrapped {border: 1px dashed gray;margin: 0 0.4em 0.5em 0.4em;box-sizing: border-box;padding-bottom: 0.4em;background-color: white;}#sk-container-id-2 div.sk-label label {font-family: monospace;font-weight: bold;display: inline-block;line-height: 1.2em;}#sk-container-id-2 div.sk-label-container {text-align: center;}#sk-container-id-2 div.sk-container {/* jupyter's `normalize.less` sets `[hidden] { display: none; }` but bootstrap.min.css set `[hidden] { display: none !important; }` so we also need the `!important` here to be able to override the default hidden behavior on the sphinx rendered scikit-learn.org. See: https://github.com/scikit-learn/scikit-learn/issues/21755 */display: inline-block !important;position: relative;}#sk-container-id-2 div.sk-text-repr-fallback {display: none;}</style><div id=\"sk-container-id-2\" class=\"sk-top-container\"><div class=\"sk-text-repr-fallback\"><pre>RandomForestRegressor()</pre><b>In a Jupyter environment, please rerun this cell to show the HTML representation or trust the notebook. <br />On GitHub, the HTML representation is unable to render, please try loading this page with nbviewer.org.</b></div><div class=\"sk-container\" hidden><div class=\"sk-item\"><div class=\"sk-estimator sk-toggleable\"><input class=\"sk-toggleable__control sk-hidden--visually\" id=\"sk-estimator-id-2\" type=\"checkbox\" checked><label for=\"sk-estimator-id-2\" class=\"sk-toggleable__label sk-toggleable__label-arrow\">RandomForestRegressor</label><div class=\"sk-toggleable__content\"><pre>RandomForestRegressor()</pre></div></div></div></div></div>"
      ],
      "text/plain": [
       "RandomForestRegressor()"
      ]
     },
     "execution_count": 60,
     "metadata": {},
     "output_type": "execute_result"
    }
   ],
   "source": [
    "from statsmodels.stats.outliers_influence import variance_inflation_factor\n",
    "\n",
    "# Assuming you have X_train prepared\n",
    "# Replace with your actual data\n",
    "\n",
    "# Calculate VIF for each feature in the dataset\n",
    "vif_data = pd.DataFrame()\n",
    "vif_data[\"feature\"] = X_train.columns\n",
    "vif_data[\"VIF\"] = [variance_inflation_factor(X_train.values, i) for i in range(X_train.shape[1])]\n",
    "\n",
    "# Display the VIF for each feature\n",
    "print(vif_data)\n",
    "\n",
    "# Identify features with high VIF (> 5)\n",
    "high_vif_features = vif_data[vif_data[\"VIF\"] > 5][\"feature\"]\n",
    "\n",
    "# Remove features with high VIF from X_train\n",
    "X_train_low_vif = X_train.drop(columns=high_vif_features)\n",
    "\n",
    "# Fit your chosen model (e.g., Random Forest) on X_train_low_vif\n",
    "random_forest_model.fit(X_train_low_vif, y_train)"
   ]
  },
  {
   "cell_type": "code",
   "execution_count": 66,
   "id": "c191443c",
   "metadata": {},
   "outputs": [
    {
     "name": "stdout",
     "output_type": "stream",
     "text": [
      "Performance Metrics for Random Forest Regressor:\n",
      "Mean Absolute Error (MAE): 0.17757752529860038\n",
      "R-squared (R2): 0.9497362363628525\n",
      "Mean Squared Error (MSE): 0.049385855698999094\n",
      "Root Mean Squared Error (RMSE): 0.2222292863215807\n"
     ]
    }
   ],
   "source": [
    "from sklearn.metrics import mean_absolute_error, mean_squared_error, r2_score\n",
    "\n",
    "# Assuming you have X_train, y_train, X_test, and y_test prepared\n",
    "# Replace with your actual data\n",
    "\n",
    "# Train the Random Forest model\n",
    "random_forest_model.fit(X_train, y_train)\n",
    "\n",
    "# Predict using the trained Random Forest model\n",
    "y_pred_random_forest = random_forest_model.predict(X_test)\n",
    "\n",
    "# Calculate Mean Absolute Error (MAE)\n",
    "mae = mean_absolute_error(y_test, y_pred_random_forest)\n",
    "\n",
    "# Calculate R-squared (R2)\n",
    "r2 = r2_score(y_test, y_pred_random_forest)\n",
    "\n",
    "# Calculate Mean Squared Error (MSE)\n",
    "mse = mean_squared_error(y_test, y_pred_random_forest)\n",
    "\n",
    "# Calculate Root Mean Squared Error (RMSE)\n",
    "rmse = np.sqrt(mse)\n",
    "\n",
    "# Print performance metrics\n",
    "print(\"Performance Metrics for Random Forest Regressor:\")\n",
    "print(\"Mean Absolute Error (MAE):\", mae)\n",
    "print(\"R-squared (R2):\", r2)\n",
    "print(\"Mean Squared Error (MSE):\", mse)\n",
    "print(\"Root Mean Squared Error (RMSE):\", rmse)"
   ]
  },
  {
   "cell_type": "code",
   "execution_count": 64,
   "id": "a75effb8",
   "metadata": {},
   "outputs": [],
   "source": [
    "feature_importances = random_forest_model.feature_importances_\n",
    "# Print or analyze the feature importances"
   ]
  },
  {
   "cell_type": "code",
   "execution_count": 70,
   "id": "8c432549",
   "metadata": {},
   "outputs": [
    {
     "data": {
      "image/png": "[encoded data removed]",
      "text/plain": [
       "<Figure size 640x480 with 1 Axes>"
      ]
     },
     "metadata": {},
     "output_type": "display_data"
    }
   ],
   "source": [
    "\n",
    "import matplotlib.pyplot as plt\n",
    "\n",
    "feature_importances = random_forest_model.feature_importances_\n",
    "feature_names = X_train.columns\n",
    "\n",
    "plt.barh(feature_names, feature_importances)\n",
    "plt.xlabel('Feature Importance')\n",
    "plt.ylabel('Features')\n",
    "plt.show()"
   ]
  },
  {
   "cell_type": "code",
   "execution_count": 71,
   "id": "0dc05163",
   "metadata": {},
   "outputs": [
    {
     "data": {
      "image/png": "[encoded data removed]",
      "text/plain": [
       "<Figure size 1000x600 with 1 Axes>"
      ]
     },
     "metadata": {},
     "output_type": "display_data"
    }
   ],
   "source": [
    "import numpy as np\n",
    "import matplotlib.pyplot as plt\n",
    "\n",
    "# Assuming you have random_forest_model and X_test prepared\n",
    "# Replace with your actual data\n",
    "\n",
    "# Choose the feature you want to create PDP for\n",
    "feature_to_plot = 'weight'  # Replace with the feature you want to plot\n",
    "\n",
    "# Values to vary for the chosen feature\n",
    "feature_values = np.linspace(min(X_test[feature_to_plot]), max(X_test[feature_to_plot]), num=50)\n",
    "\n",
    "# Initialize an array to store average predicted values\n",
    "average_predictions = []\n",
    "\n",
    "# Calculate average predictions for each value of the chosen feature\n",
    "for value in feature_values:\n",
    "    X_temp = X_test.copy()\n",
    "    X_temp[feature_to_plot] = value\n",
    "    predictions = random_forest_model.predict(X_temp)\n",
    "    average_predictions.append(np.mean(predictions))\n",
    "\n",
    "# Plot the PDP\n",
    "plt.figure(figsize=(10, 6))\n",
    "plt.plot(feature_values, average_predictions, marker='o')\n",
    "plt.xlabel(feature_to_plot)\n",
    "plt.ylabel('Average Predicted Insurance Cost')\n",
    "plt.title('Partial Dependence Plot')\n",
    "plt.grid(True)\n",
    "plt.show()"
   ]
  },
  {
   "cell_type": "markdown",
   "id": "ce22ab7a",
   "metadata": {},
   "source": [
    "## 2). Model Tuning and business implication\t"
   ]
  },
  {
   "cell_type": "markdown",
   "id": "c5a0852d",
   "metadata": {},
   "source": [
    "## a.Ensemble modelling, wherever applicable\t "
   ]
  },
  {
   "cell_type": "code",
   "execution_count": 74,
   "id": "9361f41c",
   "metadata": {},
   "outputs": [],
   "source": [
    "from sklearn.tree import DecisionTreeClassifier\n",
    "#from sklearn.feature_extraction.text import CountVectorizer  #DT does not take strings as input for the model fit step....\n",
    "from IPython.display import Image  \n",
    "#import pydotplus as pydot\n",
    "from sklearn import tree\n",
    "from os import system"
   ]
  },
  {
   "cell_type": "code",
   "execution_count": 76,
   "id": "9c370f03",
   "metadata": {},
   "outputs": [
    {
     "name": "stdout",
     "output_type": "stream",
     "text": [
      "Mean Squared Error (MSE): 0.0979979421157996\n"
     ]
    }
   ],
   "source": [
    "from sklearn.tree import DecisionTreeRegressor\n",
    "from sklearn.metrics import mean_squared_error\n",
    "\n",
    "# Assuming you have X_train and y_train prepared\n",
    "\n",
    "# Create a DecisionTreeRegressor model\n",
    "dTreeRegressor = DecisionTreeRegressor(random_state=1)\n",
    "dTreeRegressor.fit(X_train, y_train)\n",
    "\n",
    "# Predict using the trained model\n",
    "y_pred = dTreeRegressor.predict(X_test)\n",
    "\n",
    "# Calculate Mean Squared Error (MSE)\n",
    "mse = mean_squared_error(y_test, y_pred)\n",
    "\n",
    "# Print performance metric\n",
    "print(\"Mean Squared Error (MSE):\", mse)"
   ]
  },
  {
   "cell_type": "markdown",
   "id": "9388cd8e",
   "metadata": {},
   "source": [
    "### Ensemble Learning - Bagging"
   ]
  },
  {
   "cell_type": "code",
   "execution_count": 97,
   "id": "4b5d70d6",
   "metadata": {},
   "outputs": [],
   "source": [
    "from sklearn.ensemble import BaggingClassifier\n",
    "\n",
    "bgcl = BaggingClassifier(base_estimator=dTree, n_estimators=50,random_state=1)\n",
    "#bgcl = BaggingClassifier(n_estimators=50,random_state=1)\n",
    "\n",
    "bgcl = bgcl.fit(X_train, y_train)"
   ]
  },
  {
   "cell_type": "code",
   "execution_count": 99,
   "id": "71ecea07",
   "metadata": {},
   "outputs": [
    {
     "name": "stdout",
     "output_type": "stream",
     "text": [
      "0.9666666666666667\n"
     ]
    },
    {
     "data": {
      "image/png": "[encoded data removed]",
      "text/plain": [
       "<Figure size 700x500 with 2 Axes>"
      ]
     },
     "metadata": {},
     "output_type": "display_data"
    }
   ],
   "source": [
    "y_predict = bgcl.predict(X_test)\n",
    "\n",
    "print(bgcl.score(X_test , y_test))\n",
    "\n",
    "cm=metrics.confusion_matrix(y_test, y_predict,labels=[0, 1])\n",
    "\n",
    "df_cm = pd.DataFrame(cm, index = [i for i in [\"No\",\"Yes\"]],\n",
    "                  columns = [i for i in [\"No\",\"Yes\"]])\n",
    "plt.figure(figsize = (7,5))\n",
    "sns.heatmap(df_cm, annot=True ,fmt='g')\n",
    "plt.title(\"Ensemble Learning - Bagging Confusion Matrix\")\n",
    "plt.show()"
   ]
  },
  {
   "cell_type": "markdown",
   "id": "654f6999",
   "metadata": {},
   "source": [
    "### Ensemble Learning - AdaBoosting"
   ]
  },
  {
   "cell_type": "code",
   "execution_count": 91,
   "id": "46edad96",
   "metadata": {},
   "outputs": [],
   "source": [
    "from sklearn.ensemble import AdaBoostClassifier\n",
    "abcl = AdaBoostClassifier(n_estimators=10, random_state=1)\n",
    "#abcl = AdaBoostClassifier( n_estimators=50,random_state=1)\n",
    "abcl = abcl.fit(X_train, y_train)"
   ]
  },
  {
   "cell_type": "code",
   "execution_count": 95,
   "id": "c2f03b41",
   "metadata": {},
   "outputs": [
    {
     "name": "stdout",
     "output_type": "stream",
     "text": [
      "0.9666666666666667\n"
     ]
    },
    {
     "data": {
      "image/png": "[encoded data removed]",
      "text/plain": [
       "<Figure size 700x500 with 2 Axes>"
      ]
     },
     "metadata": {},
     "output_type": "display_data"
    }
   ],
   "source": [
    "y_predict = abcl.predict(X_test)\n",
    "print(abcl.score(X_test , y_test))\n",
    "\n",
    "cm=metrics.confusion_matrix(y_test, y_predict,labels=[0, 1])\n",
    "\n",
    "df_cm = pd.DataFrame(cm, index = [i for i in [\"No\",\"Yes\"]],\n",
    "                  columns = [i for i in [\"No\",\"Yes\"]])\n",
    "plt.figure(figsize = (7,5))\n",
    "sns.heatmap(df_cm, annot=True ,fmt='g')\n",
    "plt.title(\"Ensemble Learning - AdaBoosting Confusion Matrix\")\n",
    "plt.show()"
   ]
  },
  {
   "cell_type": "markdown",
   "id": "08d59bd5",
   "metadata": {},
   "source": [
    "### Ensemble Learning - GradientBoost"
   ]
  },
  {
   "cell_type": "code",
   "execution_count": 89,
   "id": "7fca2d06",
   "metadata": {},
   "outputs": [],
   "source": [
    "from sklearn.ensemble import GradientBoostingClassifier\n",
    "gbcl = GradientBoostingClassifier(n_estimators = 50,random_state=1)\n",
    "gbcl = gbcl.fit(X_train, y_train)"
   ]
  },
  {
   "cell_type": "code",
   "execution_count": 94,
   "id": "a2e587ff",
   "metadata": {},
   "outputs": [
    {
     "name": "stdout",
     "output_type": "stream",
     "text": [
      "0.9666666666666667\n"
     ]
    },
    {
     "data": {
      "image/png": "[encoded data removed]",
      "text/plain": [
       "<Figure size 700x500 with 2 Axes>"
      ]
     },
     "metadata": {},
     "output_type": "display_data"
    }
   ],
   "source": [
    "y_predict = gbcl.predict(X_test)\n",
    "print(gbcl.score(X_test, y_test))\n",
    "cm=metrics.confusion_matrix(y_test, y_predict,labels=[0, 1])\n",
    "\n",
    "df_cm = pd.DataFrame(cm, index = [i for i in [\"No\",\"Yes\"]],\n",
    "                  columns = [i for i in [\"No\",\"Yes\"]])\n",
    "plt.figure(figsize = (7,5))\n",
    "sns.heatmap(df_cm, annot=True ,fmt='g')\n",
    "plt.title(\"Ensemble Learning - GradientBoost Confusion Matrix\")\n",
    "plt.show()"
   ]
  },
  {
   "cell_type": "markdown",
   "id": "f56b1a0a",
   "metadata": {},
   "source": [
    "### Ensemble RandomForest Classifier"
   ]
  },
  {
   "cell_type": "code",
   "execution_count": 87,
   "id": "88eea7ac",
   "metadata": {},
   "outputs": [],
   "source": [
    "from sklearn.ensemble import RandomForestClassifier\n",
    "rfcl = RandomForestClassifier(n_estimators = 50, random_state=1,max_features=12)\n",
    "rfcl = rfcl.fit(X_train, y_train)"
   ]
  },
  {
   "cell_type": "code",
   "execution_count": 93,
   "id": "ca00f036",
   "metadata": {},
   "outputs": [
    {
     "name": "stdout",
     "output_type": "stream",
     "text": [
      "0.9666666666666667\n"
     ]
    },
    {
     "data": {
      "image/png": "[encoded data removed]",
      "text/plain": [
       "<Figure size 700x500 with 2 Axes>"
      ]
     },
     "metadata": {},
     "output_type": "display_data"
    }
   ],
   "source": [
    "y_predict = rfcl.predict(X_test)\n",
    "print(rfcl.score(X_test, y_test))\n",
    "cm=metrics.confusion_matrix(y_test, y_predict,labels=[0, 1])\n",
    "\n",
    "df_cm = pd.DataFrame(cm, index = [i for i in [\"No\",\"Yes\"]],\n",
    "                  columns = [i for i in [\"No\",\"Yes\"]])\n",
    "plt.figure(figsize = (7,5))\n",
    "sns.heatmap(df_cm, annot=True ,fmt='g')\n",
    "plt.title(\"Ensemble RandomForest Classifier Confusion Matrix\")\n",
    "plt.show()"
   ]
  },
  {
   "cell_type": "code",
   "execution_count": 100,
   "id": "17fda883",
   "metadata": {},
   "outputs": [],
   "source": [
    "from sklearn.metrics import precision_score, recall_score, f1_score, roc_auc_score\n"
   ]
  },
  {
   "cell_type": "code",
   "execution_count": 102,
   "id": "9cf0942d",
   "metadata": {},
   "outputs": [],
   "source": [
    "# Calculate precision\n",
    "precision = precision_score(y_test, y_predict, average='weighted')"
   ]
  },
  {
   "cell_type": "code",
   "execution_count": 103,
   "id": "f0f3f602",
   "metadata": {},
   "outputs": [],
   "source": [
    "# Calculate recall\n",
    "recall = recall_score(y_test, y_predict, average='weighted')"
   ]
  },
  {
   "cell_type": "code",
   "execution_count": 104,
   "id": "d504693c",
   "metadata": {},
   "outputs": [],
   "source": [
    "# Calculate F1-score\n",
    "f1 = f1_score(y_test, y_predict, average='weighted')"
   ]
  },
  {
   "cell_type": "code",
   "execution_count": 105,
   "id": "5322f7c9",
   "metadata": {},
   "outputs": [
    {
     "name": "stdout",
     "output_type": "stream",
     "text": [
      "Precision: 0.9714285714285714\n",
      "Recall: 0.9666666666666667\n",
      "F1-score: 0.9672820512820512\n"
     ]
    }
   ],
   "source": [
    "print(\"Precision:\", precision)\n",
    "print(\"Recall:\", recall)\n",
    "print(\"F1-score:\", f1)"
   ]
  },
  {
   "cell_type": "markdown",
   "id": "70bc3180",
   "metadata": {},
   "source": [
    "### b. Any other model tuning measures(if applicable)"
   ]
  },
  {
   "cell_type": "code",
   "execution_count": null,
   "id": "d0f17b55",
   "metadata": {},
   "outputs": [],
   "source": [
    "from sklearn.model_selection import GridSearchCV\n",
    "from sklearn.ensemble import RandomForestRegressor\n",
    "\n",
    "# Define the parameter grid for hyperparameter tuning\n",
    "param_grid = {\n",
    "    'n_estimators': [100, 200, 300],\n",
    "    'max_depth': [None, 10, 20],\n",
    "    'min_samples_split': [2, 5, 10],\n",
    "    'min_samples_leaf': [1, 2, 4],\n",
    "    'max_features': ['auto', 'sqrt', 'log2']\n",
    "}\n",
    "\n",
    "# Create the RandomForestRegressor model\n",
    "rf_model = RandomForestRegressor(random_state=42)"
   ]
  },
  {
   "cell_type": "code",
   "execution_count": 107,
   "id": "eeb8ea8a",
   "metadata": {},
   "outputs": [
    {
     "name": "stdout",
     "output_type": "stream",
     "text": [
      "Fitting 5 folds for each of 243 candidates, totalling 1215 fits\n",
      "Best Parameters: {'max_depth': None, 'max_features': 'sqrt', 'min_samples_leaf': 2, 'min_samples_split': 10, 'n_estimators': 100}\n"
     ]
    },
    {
     "ename": "ValueError",
     "evalue": "X has 14 features, but RandomForestRegressor is expecting 4 features as input.",
     "output_type": "error",
     "traceback": [
      "\u001b[1;31m---------------------------------------------------------------------------\u001b[0m",
      "\u001b[1;31mValueError\u001b[0m                                Traceback (most recent call last)",
      "Cell \u001b[1;32mIn[107], line 16\u001b[0m\n\u001b[0;32m     13\u001b[0m \u001b[38;5;28mprint\u001b[39m(\u001b[38;5;124m\"\u001b[39m\u001b[38;5;124mBest Parameters:\u001b[39m\u001b[38;5;124m\"\u001b[39m, best_params)\n\u001b[0;32m     15\u001b[0m \u001b[38;5;66;03m# Evaluate the best model on the test data\u001b[39;00m\n\u001b[1;32m---> 16\u001b[0m predicted_insurance_costs \u001b[38;5;241m=\u001b[39m \u001b[43mbest_model\u001b[49m\u001b[38;5;241;43m.\u001b[39;49m\u001b[43mpredict\u001b[49m\u001b[43m(\u001b[49m\u001b[43mX_test_no_const\u001b[49m\u001b[43m)\u001b[49m\n\u001b[0;32m     17\u001b[0m mse \u001b[38;5;241m=\u001b[39m mean_squared_error(y_test, predicted_insurance_costs)\n\u001b[0;32m     18\u001b[0m rmse \u001b[38;5;241m=\u001b[39m np\u001b[38;5;241m.\u001b[39msqrt(mse)\n",
      "File \u001b[1;32m~\\AppData\\Local\\anaconda3\\lib\\site-packages\\sklearn\\ensemble\\_forest.py:981\u001b[0m, in \u001b[0;36mForestRegressor.predict\u001b[1;34m(self, X)\u001b[0m\n\u001b[0;32m    979\u001b[0m check_is_fitted(\u001b[38;5;28mself\u001b[39m)\n\u001b[0;32m    980\u001b[0m \u001b[38;5;66;03m# Check data\u001b[39;00m\n\u001b[1;32m--> 981\u001b[0m X \u001b[38;5;241m=\u001b[39m \u001b[38;5;28;43mself\u001b[39;49m\u001b[38;5;241;43m.\u001b[39;49m\u001b[43m_validate_X_predict\u001b[49m\u001b[43m(\u001b[49m\u001b[43mX\u001b[49m\u001b[43m)\u001b[49m\n\u001b[0;32m    983\u001b[0m \u001b[38;5;66;03m# Assign chunk of trees to jobs\u001b[39;00m\n\u001b[0;32m    984\u001b[0m n_jobs, _, _ \u001b[38;5;241m=\u001b[39m _partition_estimators(\u001b[38;5;28mself\u001b[39m\u001b[38;5;241m.\u001b[39mn_estimators, \u001b[38;5;28mself\u001b[39m\u001b[38;5;241m.\u001b[39mn_jobs)\n",
      "File \u001b[1;32m~\\AppData\\Local\\anaconda3\\lib\\site-packages\\sklearn\\ensemble\\_forest.py:602\u001b[0m, in \u001b[0;36mBaseForest._validate_X_predict\u001b[1;34m(self, X)\u001b[0m\n\u001b[0;32m    599\u001b[0m \u001b[38;5;124;03m\"\"\"\u001b[39;00m\n\u001b[0;32m    600\u001b[0m \u001b[38;5;124;03mValidate X whenever one tries to predict, apply, predict_proba.\"\"\"\u001b[39;00m\n\u001b[0;32m    601\u001b[0m check_is_fitted(\u001b[38;5;28mself\u001b[39m)\n\u001b[1;32m--> 602\u001b[0m X \u001b[38;5;241m=\u001b[39m \u001b[38;5;28;43mself\u001b[39;49m\u001b[38;5;241;43m.\u001b[39;49m\u001b[43m_validate_data\u001b[49m\u001b[43m(\u001b[49m\u001b[43mX\u001b[49m\u001b[43m,\u001b[49m\u001b[43m \u001b[49m\u001b[43mdtype\u001b[49m\u001b[38;5;241;43m=\u001b[39;49m\u001b[43mDTYPE\u001b[49m\u001b[43m,\u001b[49m\u001b[43m \u001b[49m\u001b[43maccept_sparse\u001b[49m\u001b[38;5;241;43m=\u001b[39;49m\u001b[38;5;124;43m\"\u001b[39;49m\u001b[38;5;124;43mcsr\u001b[39;49m\u001b[38;5;124;43m\"\u001b[39;49m\u001b[43m,\u001b[49m\u001b[43m \u001b[49m\u001b[43mreset\u001b[49m\u001b[38;5;241;43m=\u001b[39;49m\u001b[38;5;28;43;01mFalse\u001b[39;49;00m\u001b[43m)\u001b[49m\n\u001b[0;32m    603\u001b[0m \u001b[38;5;28;01mif\u001b[39;00m issparse(X) \u001b[38;5;129;01mand\u001b[39;00m (X\u001b[38;5;241m.\u001b[39mindices\u001b[38;5;241m.\u001b[39mdtype \u001b[38;5;241m!=\u001b[39m np\u001b[38;5;241m.\u001b[39mintc \u001b[38;5;129;01mor\u001b[39;00m X\u001b[38;5;241m.\u001b[39mindptr\u001b[38;5;241m.\u001b[39mdtype \u001b[38;5;241m!=\u001b[39m np\u001b[38;5;241m.\u001b[39mintc):\n\u001b[0;32m    604\u001b[0m     \u001b[38;5;28;01mraise\u001b[39;00m \u001b[38;5;167;01mValueError\u001b[39;00m(\u001b[38;5;124m\"\u001b[39m\u001b[38;5;124mNo support for np.int64 index based sparse matrices\u001b[39m\u001b[38;5;124m\"\u001b[39m)\n",
      "File \u001b[1;32m~\\AppData\\Local\\anaconda3\\lib\\site-packages\\sklearn\\base.py:569\u001b[0m, in \u001b[0;36mBaseEstimator._validate_data\u001b[1;34m(self, X, y, reset, validate_separately, **check_params)\u001b[0m\n\u001b[0;32m    566\u001b[0m     out \u001b[38;5;241m=\u001b[39m X, y\n\u001b[0;32m    568\u001b[0m \u001b[38;5;28;01mif\u001b[39;00m \u001b[38;5;129;01mnot\u001b[39;00m no_val_X \u001b[38;5;129;01mand\u001b[39;00m check_params\u001b[38;5;241m.\u001b[39mget(\u001b[38;5;124m\"\u001b[39m\u001b[38;5;124mensure_2d\u001b[39m\u001b[38;5;124m\"\u001b[39m, \u001b[38;5;28;01mTrue\u001b[39;00m):\n\u001b[1;32m--> 569\u001b[0m     \u001b[38;5;28;43mself\u001b[39;49m\u001b[38;5;241;43m.\u001b[39;49m\u001b[43m_check_n_features\u001b[49m\u001b[43m(\u001b[49m\u001b[43mX\u001b[49m\u001b[43m,\u001b[49m\u001b[43m \u001b[49m\u001b[43mreset\u001b[49m\u001b[38;5;241;43m=\u001b[39;49m\u001b[43mreset\u001b[49m\u001b[43m)\u001b[49m\n\u001b[0;32m    571\u001b[0m \u001b[38;5;28;01mreturn\u001b[39;00m out\n",
      "File \u001b[1;32m~\\AppData\\Local\\anaconda3\\lib\\site-packages\\sklearn\\base.py:370\u001b[0m, in \u001b[0;36mBaseEstimator._check_n_features\u001b[1;34m(self, X, reset)\u001b[0m\n\u001b[0;32m    367\u001b[0m     \u001b[38;5;28;01mreturn\u001b[39;00m\n\u001b[0;32m    369\u001b[0m \u001b[38;5;28;01mif\u001b[39;00m n_features \u001b[38;5;241m!=\u001b[39m \u001b[38;5;28mself\u001b[39m\u001b[38;5;241m.\u001b[39mn_features_in_:\n\u001b[1;32m--> 370\u001b[0m     \u001b[38;5;28;01mraise\u001b[39;00m \u001b[38;5;167;01mValueError\u001b[39;00m(\n\u001b[0;32m    371\u001b[0m         \u001b[38;5;124mf\u001b[39m\u001b[38;5;124m\"\u001b[39m\u001b[38;5;124mX has \u001b[39m\u001b[38;5;132;01m{\u001b[39;00mn_features\u001b[38;5;132;01m}\u001b[39;00m\u001b[38;5;124m features, but \u001b[39m\u001b[38;5;132;01m{\u001b[39;00m\u001b[38;5;28mself\u001b[39m\u001b[38;5;241m.\u001b[39m\u001b[38;5;18m__class__\u001b[39m\u001b[38;5;241m.\u001b[39m\u001b[38;5;18m__name__\u001b[39m\u001b[38;5;132;01m}\u001b[39;00m\u001b[38;5;124m \u001b[39m\u001b[38;5;124m\"\u001b[39m\n\u001b[0;32m    372\u001b[0m         \u001b[38;5;124mf\u001b[39m\u001b[38;5;124m\"\u001b[39m\u001b[38;5;124mis expecting \u001b[39m\u001b[38;5;132;01m{\u001b[39;00m\u001b[38;5;28mself\u001b[39m\u001b[38;5;241m.\u001b[39mn_features_in_\u001b[38;5;132;01m}\u001b[39;00m\u001b[38;5;124m features as input.\u001b[39m\u001b[38;5;124m\"\u001b[39m\n\u001b[0;32m    373\u001b[0m     )\n",
      "\u001b[1;31mValueError\u001b[0m: X has 14 features, but RandomForestRegressor is expecting 4 features as input."
     ]
    }
   ],
   "source": [
    "# Create the GridSearchCV object\n",
    "grid_search = GridSearchCV(estimator=rf_model, param_grid=param_grid, \n",
    "                           cv=5, n_jobs=-1, scoring='neg_mean_squared_error', verbose=2)\n",
    "\n",
    "# Fit the grid search to the data\n",
    "grid_search.fit(X_train, y_train)\n",
    "\n",
    "# Get the best parameters and best estimator\n",
    "best_params = grid_search.best_params_\n",
    "best_model = grid_search.best_estimator_\n",
    "\n",
    "# Print the best parameters\n",
    "print(\"Best Parameters:\", best_params)\n",
    "\n",
    "# Evaluate the best model on the test data\n",
    "predicted_insurance_costs = best_model.predict(X_test_no_const)\n",
    "mse = mean_squared_error(y_test, predicted_insurance_costs)\n",
    "rmse = np.sqrt(mse)\n",
    "print(\"RMSE:\", rmse)"
   ]
  },
  {
   "cell_type": "code",
   "execution_count": 110,
   "id": "59bdedca",
   "metadata": {},
   "outputs": [
    {
     "name": "stdout",
     "output_type": "stream",
     "text": [
      "Number of features expected by the model: 4\n"
     ]
    }
   ],
   "source": [
    "print(\"Number of features expected by the model:\", best_model.n_features_in_)"
   ]
  },
  {
   "cell_type": "code",
   "execution_count": 111,
   "id": "6739a64c",
   "metadata": {},
   "outputs": [
    {
     "name": "stdout",
     "output_type": "stream",
     "text": [
      "Best Model Evaluation:\n",
      "MSE: 0.030900178338155625\n",
      "RMSE: 0.17578446557689797\n",
      "MAE: 0.052860866910866895\n",
      "MAPE: nan\n",
      "R-squared: 0.9426594628776493\n"
     ]
    }
   ],
   "source": [
    "from sklearn.ensemble import RandomForestRegressor\n",
    "from sklearn.metrics import mean_squared_error, mean_absolute_error, r2_score\n",
    "\n",
    "# Assuming you have trained the RandomForestRegressor model and obtained the best parameters\n",
    "\n",
    "# Create the best model with the best parameters\n",
    "best_model = RandomForestRegressor(max_depth=None, max_features='sqrt', min_samples_leaf=2, min_samples_split=10, n_estimators=100)\n",
    "\n",
    "# Train the best model on the entire training data\n",
    "best_model.fit(X_train, y_train)  # Replace X_train with your actual training data and y_train with your actual target data\n",
    "\n",
    "# Predict insurance costs on the modified test data using the trained best model\n",
    "predicted_insurance_costs = best_model.predict(X_test)  # Replace X_test with your actual test data\n",
    "\n",
    "# Evaluate the model's performance\n",
    "mse = mean_squared_error(y_test, predicted_insurance_costs)\n",
    "rmse = np.sqrt(mse)\n",
    "mae = mean_absolute_error(y_test, predicted_insurance_costs)\n",
    "mape = np.mean(np.abs((y_test - predicted_insurance_costs) / y_test)) * 100\n",
    "r2 = r2_score(y_test, predicted_insurance_costs)\n",
    "\n",
    "# Print the evaluation metrics\n",
    "print(\"Best Model Evaluation:\")\n",
    "print(\"MSE:\", mse)\n",
    "print(\"RMSE:\", rmse)\n",
    "print(\"MAE:\", mae)\n",
    "print(\"MAPE:\", mape)\n",
    "print(\"R-squared:\", r2)"
   ]
  },
  {
   "cell_type": "code",
   "execution_count": 118,
   "id": "aa17f084",
   "metadata": {},
   "outputs": [
    {
     "data": {
      "image/png": "[encoded data removed]",
      "text/plain": [
       "<Figure size 1000x600 with 1 Axes>"
      ]
     },
     "metadata": {},
     "output_type": "display_data"
    }
   ],
   "source": [
    "import numpy as np\n",
    "import matplotlib.pyplot as plt\n",
    "\n",
    "# Assuming you have the best_model and X_train\n",
    "\n",
    "# Get the feature importances from the best_model\n",
    "feature_importances = best_model.feature_importances_\n",
    "\n",
    "# Get the names of the features\n",
    "feature_names = np.array([f'Feature_{i}' for i in range(X_train.shape[1])])  # Replace with appropriate names if available\n",
    "\n",
    "# Sort the features based on their importances\n",
    "sorted_indices = np.argsort(feature_importances)[::-1]\n",
    "\n",
    "# Create a bar plot to visualize feature importances\n",
    "plt.figure(figsize=(10, 6))\n",
    "plt.bar(range(len(feature_importances)), feature_importances[sorted_indices], tick_label=feature_names[sorted_indices], color='blue')\n",
    "plt.xlabel('Features')\n",
    "plt.ylabel('Importance')\n",
    "plt.title('Feature Importances of the Most Optimum Model')\n",
    "plt.xticks(rotation=90)\n",
    "plt.tight_layout()\n",
    "plt.show()"
   ]
  },
  {
   "cell_type": "code",
   "execution_count": 116,
   "id": "e3326793",
   "metadata": {},
   "outputs": [
    {
     "data": {
      "image/png": "[encoded data removed]",
      "text/plain": [
       "<Figure size 1000x600 with 1 Axes>"
      ]
     },
     "metadata": {},
     "output_type": "display_data"
    }
   ],
   "source": [
    "import numpy as np\n",
    "import matplotlib.pyplot as plt\n",
    "\n",
    "# Evaluation results\n",
    "mse = 0.030900178338155625\n",
    "rmse = 0.17578446557689797\n",
    "mae = 0.052860866910866895\n",
    "r2 = 0.9426594628776493\n",
    "\n",
    "# Create a bar plot to visualize the evaluation metrics\n",
    "metrics = ['MSE', 'RMSE', 'MAE', 'R-squared']\n",
    "values = [mse, rmse, mae, r2]\n",
    "\n",
    "plt.figure(figsize=(10, 6))\n",
    "plt.bar(metrics, values, color='blue')\n",
    "plt.xlabel('Metrics')\n",
    "plt.ylabel('Values')\n",
    "plt.title('Evaluation Metrics of the Most Optimum Model')\n",
    "plt.ylim(0, max(values) + 0.2)  # Adjust ylim for better visualization\n",
    "plt.show()"
   ]
  },
  {
   "cell_type": "code",
   "execution_count": 119,
   "id": "0c412858",
   "metadata": {},
   "outputs": [
    {
     "name": "stdout",
     "output_type": "stream",
     "text": [
      "Feature_2: 0.4561440232113274\n",
      "Feature_3: 0.4288859082420651\n",
      "Feature_0: 0.10481977578463006\n",
      "Feature_1: 0.010150292761977486\n"
     ]
    }
   ],
   "source": [
    "import numpy as np\n",
    "\n",
    "# Assuming you have the best_model and X_train\n",
    "\n",
    "# Get the feature importances from the best_model\n",
    "feature_importances = best_model.feature_importances_\n",
    "\n",
    "# Get the names of the features\n",
    "feature_names = np.array([f'Feature_{i}' for i in range(X_train.shape[1])])  # Replace with appropriate names if available\n",
    "\n",
    "# Sort the features based on their importances\n",
    "sorted_indices = np.argsort(feature_importances)[::-1]\n",
    "\n",
    "# List the features and their corresponding importances\n",
    "for feature_index in sorted_indices:\n",
    "    print(f\"{feature_names[feature_index]}: {feature_importances[feature_index]}\")"
   ]
  },
  {
   "cell_type": "code",
   "execution_count": null,
   "id": "42b7f166",
   "metadata": {},
   "outputs": [],
   "source": []
  }
 ],
 "metadata": {
  "kernelspec": {
   "display_name": "Python 3 (ipykernel)",
   "language": "python",
   "name": "python3"
  },
  "language_info": {
   "codemirror_mode": {
    "name": "ipython",
    "version": 3
   },
   "file_extension": ".py",
   "mimetype": "text/x-python",
   "name": "python",
   "nbconvert_exporter": "python",
   "pygments_lexer": "ipython3",
   "version": "3.9.13"
  }
 },
 "nbformat": 4,
 "nbformat_minor": 5
}
